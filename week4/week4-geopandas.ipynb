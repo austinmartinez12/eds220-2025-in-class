{
 "cells": [
  {
   "cell_type": "markdown",
   "id": "a85d7f63",
   "metadata": {},
   "source": []
  }
 ],
 "metadata": {
  "language_info": {
   "name": "python"
  }
 },
 "nbformat": 4,
 "nbformat_minor": 5
}
