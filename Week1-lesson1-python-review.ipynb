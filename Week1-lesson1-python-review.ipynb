{
 "cells": [
  {
   "cell_type": "markdown",
   "id": "cb554eef-466b-4d9b-98b8-04ba870c0b5b",
   "metadata": {},
   "source": [
    "# Python review\n",
    "\n",
    "Goals: \n",
    "- recall basic python vocab\n",
    "- practice markdown\n",
    "\n",
    "# libraries and packages\n",
    "\n",
    "**librariy** a collecion of code that we can use to preform sepcific tasks in our programs\n",
    "\n",
    "**NumPy**:\n",
    "- core library for numerical computing in python\n",
    "- many other libraries use numpy arrays as building blocks\n",
    "- computions on numpy are optimined for speed and memory usage\n",
    "\n",
    "lets impott numpy with **standard abrivation**"
   ]
  },
  {
   "cell_type": "code",
   "execution_count": 1,
   "id": "0c55b45f-987e-4106-a6d0-513b48aa9c8d",
   "metadata": {
    "tags": []
   },
   "outputs": [],
   "source": [
    "import numpy as np"
   ]
  },
  {
   "cell_type": "markdown",
   "id": "95b1c2c7-66cc-4ae1-840f-67b333be5969",
   "metadata": {},
   "source": [
    "## variables \n",
    "\n",
    "**variables** is a name we assign to a pirticular name in python\n",
    "\n",
    "example: "
   ]
  },
  {
   "cell_type": "code",
   "execution_count": 2,
   "id": "641fefd5-6870-4428-b559-ffc7ed90024f",
   "metadata": {
    "tags": []
   },
   "outputs": [],
   "source": [
    "#here ima assign a small array to a variable a\n",
    "a= np.array([[1,1,2],[3,5,8]])"
   ]
  },
  {
   "cell_type": "code",
   "execution_count": 4,
   "id": "24bf2883-ada4-4e40-a0e3-0e8f0da7cba3",
   "metadata": {
    "tags": []
   },
   "outputs": [
    {
     "data": {
      "text/plain": [
       "array([[1, 1, 2],\n",
       "       [3, 5, 8]])"
      ]
     },
     "execution_count": 4,
     "metadata": {},
     "output_type": "execute_result"
    }
   ],
   "source": [
    "# run cell with the variable name to show value\n",
    "a"
   ]
  },
  {
   "cell_type": "code",
   "execution_count": 5,
   "id": "40d82553-4d2e-4651-858b-7f6f210a0acf",
   "metadata": {
    "tags": []
   },
   "outputs": [
    {
     "name": "stdout",
     "output_type": "stream",
     "text": [
      "[[1 1 2]\n",
      " [3 5 8]]\n"
     ]
    }
   ],
   "source": [
    "#use `print()` to print the value\n",
    "print(a)"
   ]
  },
  {
   "cell_type": "markdown",
   "id": "4ff49a15-dcca-492f-934f-aa5cd7dc5fa9",
   "metadata": {},
   "source": [
    "## objects \n",
    "\n",
    "**object** (informally speaking is a bundle of properties and actions about something specific\n",
    "\n",
    "ex:\n",
    "\n",
    "object: data frame\n",
    "\n",
    "properties: number rows, names of th ecollumns, date created\n",
    "\n",
    "actions: selecting a specific row, adding a new collumn\n",
    "\n",
    "a variable is the name we give a specific object, and the same object can be referenced by different variables.\n",
    "\n",
    "in practive we often use variables and object interchanjebly "
   ]
  }
 ],
 "metadata": {
  "kernelspec": {
   "display_name": "EDS220",
   "language": "python",
   "name": "eds220-env"
  },
  "language_info": {
   "codemirror_mode": {
    "name": "ipython",
    "version": 3
   },
   "file_extension": ".py",
   "mimetype": "text/x-python",
   "name": "python",
   "nbconvert_exporter": "python",
   "pygments_lexer": "ipython3",
   "version": "3.11.4"
  }
 },
 "nbformat": 4,
 "nbformat_minor": 5
}
