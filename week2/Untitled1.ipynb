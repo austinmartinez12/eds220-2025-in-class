{
 "cells": [
  {
   "cell_type": "code",
   "execution_count": 1,
   "id": "7274c9b7-d723-4116-9483-b85dc4004161",
   "metadata": {
    "tags": []
   },
   "outputs": [
    {
     "data": {
      "text/html": [
       "<div>\n",
       "<style scoped>\n",
       "    .dataframe tbody tr th:only-of-type {\n",
       "        vertical-align: middle;\n",
       "    }\n",
       "\n",
       "    .dataframe tbody tr th {\n",
       "        vertical-align: top;\n",
       "    }\n",
       "\n",
       "    .dataframe thead th {\n",
       "        text-align: right;\n",
       "    }\n",
       "</style>\n",
       "<table border=\"1\" class=\"dataframe\">\n",
       "  <thead>\n",
       "    <tr style=\"text-align: right;\">\n",
       "      <th></th>\n",
       "      <th>year</th>\n",
       "      <th>CSM_winter</th>\n",
       "      <th>CSM_spring</th>\n",
       "      <th>CSM_fall</th>\n",
       "      <th>MUL_winter</th>\n",
       "      <th>MUL_spring</th>\n",
       "      <th>MUL_fall</th>\n",
       "      <th>SDW_winter</th>\n",
       "      <th>SDW_spring</th>\n",
       "      <th>SDW_fall</th>\n",
       "      <th>TJE_winter</th>\n",
       "      <th>TJE_spring</th>\n",
       "      <th>TJE_fall</th>\n",
       "    </tr>\n",
       "  </thead>\n",
       "  <tbody>\n",
       "    <tr>\n",
       "      <th>0</th>\n",
       "      <td>2010</td>\n",
       "      <td>39.0</td>\n",
       "      <td>40.0</td>\n",
       "      <td>50.0</td>\n",
       "      <td>45.0</td>\n",
       "      <td>NaN</td>\n",
       "      <td>61.0</td>\n",
       "      <td>NaN</td>\n",
       "      <td>75.0</td>\n",
       "      <td>85.0</td>\n",
       "      <td>NaN</td>\n",
       "      <td>NaN</td>\n",
       "      <td>81.0</td>\n",
       "    </tr>\n",
       "    <tr>\n",
       "      <th>1</th>\n",
       "      <td>2011</td>\n",
       "      <td>48.0</td>\n",
       "      <td>44.0</td>\n",
       "      <td>NaN</td>\n",
       "      <td>58.0</td>\n",
       "      <td>52.0</td>\n",
       "      <td>NaN</td>\n",
       "      <td>78.0</td>\n",
       "      <td>74.0</td>\n",
       "      <td>NaN</td>\n",
       "      <td>67.0</td>\n",
       "      <td>70.0</td>\n",
       "      <td>NaN</td>\n",
       "    </tr>\n",
       "    <tr>\n",
       "      <th>2</th>\n",
       "      <td>2012</td>\n",
       "      <td>51.0</td>\n",
       "      <td>43.0</td>\n",
       "      <td>49.0</td>\n",
       "      <td>57.0</td>\n",
       "      <td>58.0</td>\n",
       "      <td>53.0</td>\n",
       "      <td>71.0</td>\n",
       "      <td>72.0</td>\n",
       "      <td>73.0</td>\n",
       "      <td>70.0</td>\n",
       "      <td>63.0</td>\n",
       "      <td>69.0</td>\n",
       "    </tr>\n",
       "    <tr>\n",
       "      <th>3</th>\n",
       "      <td>2013</td>\n",
       "      <td>42.0</td>\n",
       "      <td>46.0</td>\n",
       "      <td>38.0</td>\n",
       "      <td>60.0</td>\n",
       "      <td>58.0</td>\n",
       "      <td>62.0</td>\n",
       "      <td>69.0</td>\n",
       "      <td>70.0</td>\n",
       "      <td>70.0</td>\n",
       "      <td>69.0</td>\n",
       "      <td>74.0</td>\n",
       "      <td>64.0</td>\n",
       "    </tr>\n",
       "    <tr>\n",
       "      <th>4</th>\n",
       "      <td>2014</td>\n",
       "      <td>38.0</td>\n",
       "      <td>43.0</td>\n",
       "      <td>45.0</td>\n",
       "      <td>49.0</td>\n",
       "      <td>52.0</td>\n",
       "      <td>57.0</td>\n",
       "      <td>61.0</td>\n",
       "      <td>78.0</td>\n",
       "      <td>71.0</td>\n",
       "      <td>60.0</td>\n",
       "      <td>81.0</td>\n",
       "      <td>62.0</td>\n",
       "    </tr>\n",
       "  </tbody>\n",
       "</table>\n",
       "</div>"
      ],
      "text/plain": [
       "   year  CSM_winter  CSM_spring  CSM_fall  MUL_winter  MUL_spring  MUL_fall  \\\n",
       "0  2010        39.0        40.0      50.0        45.0         NaN      61.0   \n",
       "1  2011        48.0        44.0       NaN        58.0        52.0       NaN   \n",
       "2  2012        51.0        43.0      49.0        57.0        58.0      53.0   \n",
       "3  2013        42.0        46.0      38.0        60.0        58.0      62.0   \n",
       "4  2014        38.0        43.0      45.0        49.0        52.0      57.0   \n",
       "\n",
       "   SDW_winter  SDW_spring  SDW_fall  TJE_winter  TJE_spring  TJE_fall  \n",
       "0         NaN        75.0      85.0         NaN         NaN      81.0  \n",
       "1        78.0        74.0       NaN        67.0        70.0       NaN  \n",
       "2        71.0        72.0      73.0        70.0        63.0      69.0  \n",
       "3        69.0        70.0      70.0        69.0        74.0      64.0  \n",
       "4        61.0        78.0      71.0        60.0        81.0      62.0  "
      ]
     },
     "execution_count": 1,
     "metadata": {},
     "output_type": "execute_result"
    }
   ],
   "source": [
    "import pandas as pd\n",
    "\n",
    "#Read in file, argument is the file path \n",
    "df = pd.read_csv('data/wetlands_seasonal_bird_diversity.csv')\n",
    "\n",
    "#Print Head\n",
    "df.head()"
   ]
  },
  {
   "cell_type": "code",
   "execution_count": 2,
   "id": "1a8b0145-7ba9-4f6c-b9b4-7d06eda97251",
   "metadata": {
    "tags": []
   },
   "outputs": [
    {
     "data": {
      "text/plain": [
       "0      NaN\n",
       "1     52.0\n",
       "2     58.0\n",
       "3     58.0\n",
       "4     52.0\n",
       "5     50.0\n",
       "6     48.0\n",
       "7     54.0\n",
       "8     54.0\n",
       "9     52.0\n",
       "10     NaN\n",
       "11    55.0\n",
       "12    55.0\n",
       "13    59.0\n",
       "Name: MUL_spring, dtype: float64"
      ]
     },
     "execution_count": 2,
     "metadata": {},
     "output_type": "execute_result"
    }
   ],
   "source": [
    "#Select number of bird species observed at mugu lagoon in spring\n",
    "mul_spring = df['MUL_spring']\n",
    "\n",
    "mul_spring"
   ]
  },
  {
   "cell_type": "code",
   "execution_count": 3,
   "id": "31b55113-a8b7-443d-a6c9-f707fc66fa22",
   "metadata": {
    "tags": []
   },
   "outputs": [
    {
     "data": {
      "text/plain": [
       "0      NaN\n",
       "1     52.0\n",
       "2     58.0\n",
       "3     58.0\n",
       "4     52.0\n",
       "5     50.0\n",
       "6     48.0\n",
       "7     54.0\n",
       "8     54.0\n",
       "9     52.0\n",
       "10     NaN\n",
       "11    55.0\n",
       "12    55.0\n",
       "13    59.0\n",
       "Name: MUL_spring, dtype: float64"
      ]
     },
     "execution_count": 3,
     "metadata": {},
     "output_type": "execute_result"
    }
   ],
   "source": [
    "df.MUL_spring"
   ]
  },
  {
   "cell_type": "code",
   "execution_count": 4,
   "id": "23817bed-b001-4a77-9ac4-3735c3634cda",
   "metadata": {
    "tags": []
   },
   "outputs": [],
   "source": [
    "# Select species abundance in Tijuana Estuary during winter and fall \n",
    "tje_wf = df[['TJE_winter', 'TJE_fall']]"
   ]
  },
  {
   "cell_type": "code",
   "execution_count": 5,
   "id": "a52dc0a8-223a-4d02-9ee8-936d307ea0e8",
   "metadata": {
    "tags": []
   },
   "outputs": [
    {
     "name": "stdout",
     "output_type": "stream",
     "text": [
      "<class 'pandas.core.frame.DataFrame'> \n",
      "\n",
      "(14, 2)\n"
     ]
    }
   ],
   "source": [
    "# Check the type of tje_wf\n",
    "print(type(tje_wf), '\\n')\n",
    "#Check shape of selection\n",
    "print(tje_wf.shape)"
   ]
  },
  {
   "cell_type": "code",
   "execution_count": 6,
   "id": "fa5e2fd6-1bc5-4d3b-87b7-6102531f5af4",
   "metadata": {
    "tags": []
   },
   "outputs": [
    {
     "data": {
      "text/html": [
       "<div>\n",
       "<style scoped>\n",
       "    .dataframe tbody tr th:only-of-type {\n",
       "        vertical-align: middle;\n",
       "    }\n",
       "\n",
       "    .dataframe tbody tr th {\n",
       "        vertical-align: top;\n",
       "    }\n",
       "\n",
       "    .dataframe thead th {\n",
       "        text-align: right;\n",
       "    }\n",
       "</style>\n",
       "<table border=\"1\" class=\"dataframe\">\n",
       "  <thead>\n",
       "    <tr style=\"text-align: right;\">\n",
       "      <th></th>\n",
       "      <th>CSM_winter</th>\n",
       "      <th>CSM_spring</th>\n",
       "      <th>CSM_fall</th>\n",
       "      <th>MUL_winter</th>\n",
       "      <th>MUL_spring</th>\n",
       "      <th>MUL_fall</th>\n",
       "    </tr>\n",
       "  </thead>\n",
       "  <tbody>\n",
       "    <tr>\n",
       "      <th>0</th>\n",
       "      <td>39.0</td>\n",
       "      <td>40.0</td>\n",
       "      <td>50.0</td>\n",
       "      <td>45.0</td>\n",
       "      <td>NaN</td>\n",
       "      <td>61.0</td>\n",
       "    </tr>\n",
       "    <tr>\n",
       "      <th>1</th>\n",
       "      <td>48.0</td>\n",
       "      <td>44.0</td>\n",
       "      <td>NaN</td>\n",
       "      <td>58.0</td>\n",
       "      <td>52.0</td>\n",
       "      <td>NaN</td>\n",
       "    </tr>\n",
       "    <tr>\n",
       "      <th>2</th>\n",
       "      <td>51.0</td>\n",
       "      <td>43.0</td>\n",
       "      <td>49.0</td>\n",
       "      <td>57.0</td>\n",
       "      <td>58.0</td>\n",
       "      <td>53.0</td>\n",
       "    </tr>\n",
       "    <tr>\n",
       "      <th>3</th>\n",
       "      <td>42.0</td>\n",
       "      <td>46.0</td>\n",
       "      <td>38.0</td>\n",
       "      <td>60.0</td>\n",
       "      <td>58.0</td>\n",
       "      <td>62.0</td>\n",
       "    </tr>\n",
       "    <tr>\n",
       "      <th>4</th>\n",
       "      <td>38.0</td>\n",
       "      <td>43.0</td>\n",
       "      <td>45.0</td>\n",
       "      <td>49.0</td>\n",
       "      <td>52.0</td>\n",
       "      <td>57.0</td>\n",
       "    </tr>\n",
       "  </tbody>\n",
       "</table>\n",
       "</div>"
      ],
      "text/plain": [
       "   CSM_winter  CSM_spring  CSM_fall  MUL_winter  MUL_spring  MUL_fall\n",
       "0        39.0        40.0      50.0        45.0         NaN      61.0\n",
       "1        48.0        44.0       NaN        58.0        52.0       NaN\n",
       "2        51.0        43.0      49.0        57.0        58.0      53.0\n",
       "3        42.0        46.0      38.0        60.0        58.0      62.0\n",
       "4        38.0        43.0      45.0        49.0        52.0      57.0"
      ]
     },
     "execution_count": 6,
     "metadata": {},
     "output_type": "execute_result"
    }
   ],
   "source": [
    "# Select columns between CSM_winter and MUL_fall\n",
    "csm_mull = df.loc[ :, 'CSM_winter':'MUL_fall']\n",
    "csm_mull.head()"
   ]
  },
  {
   "cell_type": "code",
   "execution_count": 7,
   "id": "1db1628f-5b4e-4922-bbcd-ef663574ec53",
   "metadata": {
    "tags": []
   },
   "outputs": [
    {
     "data": {
      "text/html": [
       "<div>\n",
       "<style scoped>\n",
       "    .dataframe tbody tr th:only-of-type {\n",
       "        vertical-align: middle;\n",
       "    }\n",
       "\n",
       "    .dataframe tbody tr th {\n",
       "        vertical-align: top;\n",
       "    }\n",
       "\n",
       "    .dataframe thead th {\n",
       "        text-align: right;\n",
       "    }\n",
       "</style>\n",
       "<table border=\"1\" class=\"dataframe\">\n",
       "  <thead>\n",
       "    <tr style=\"text-align: right;\">\n",
       "      <th></th>\n",
       "      <th>year</th>\n",
       "      <th>CSM_winter</th>\n",
       "      <th>CSM_spring</th>\n",
       "      <th>CSM_fall</th>\n",
       "      <th>MUL_winter</th>\n",
       "      <th>MUL_spring</th>\n",
       "      <th>MUL_fall</th>\n",
       "      <th>SDW_winter</th>\n",
       "      <th>SDW_spring</th>\n",
       "      <th>SDW_fall</th>\n",
       "      <th>TJE_winter</th>\n",
       "      <th>TJE_spring</th>\n",
       "      <th>TJE_fall</th>\n",
       "    </tr>\n",
       "  </thead>\n",
       "  <tbody>\n",
       "    <tr>\n",
       "      <th>11</th>\n",
       "      <td>2021</td>\n",
       "      <td>47.0</td>\n",
       "      <td>44.0</td>\n",
       "      <td>53.0</td>\n",
       "      <td>54.0</td>\n",
       "      <td>55.0</td>\n",
       "      <td>60.0</td>\n",
       "      <td>57.0</td>\n",
       "      <td>58.0</td>\n",
       "      <td>57.0</td>\n",
       "      <td>53.0</td>\n",
       "      <td>68.0</td>\n",
       "      <td>51.0</td>\n",
       "    </tr>\n",
       "    <tr>\n",
       "      <th>12</th>\n",
       "      <td>2022</td>\n",
       "      <td>40.0</td>\n",
       "      <td>46.0</td>\n",
       "      <td>49.0</td>\n",
       "      <td>60.0</td>\n",
       "      <td>55.0</td>\n",
       "      <td>65.0</td>\n",
       "      <td>57.0</td>\n",
       "      <td>60.0</td>\n",
       "      <td>57.0</td>\n",
       "      <td>60.0</td>\n",
       "      <td>61.0</td>\n",
       "      <td>60.0</td>\n",
       "    </tr>\n",
       "    <tr>\n",
       "      <th>13</th>\n",
       "      <td>2023</td>\n",
       "      <td>56.0</td>\n",
       "      <td>43.0</td>\n",
       "      <td>36.0</td>\n",
       "      <td>72.0</td>\n",
       "      <td>59.0</td>\n",
       "      <td>53.0</td>\n",
       "      <td>64.0</td>\n",
       "      <td>63.0</td>\n",
       "      <td>33.0</td>\n",
       "      <td>60.0</td>\n",
       "      <td>56.0</td>\n",
       "      <td>38.0</td>\n",
       "    </tr>\n",
       "  </tbody>\n",
       "</table>\n",
       "</div>"
      ],
      "text/plain": [
       "    year  CSM_winter  CSM_spring  CSM_fall  MUL_winter  MUL_spring  MUL_fall  \\\n",
       "11  2021        47.0        44.0      53.0        54.0        55.0      60.0   \n",
       "12  2022        40.0        46.0      49.0        60.0        55.0      65.0   \n",
       "13  2023        56.0        43.0      36.0        72.0        59.0      53.0   \n",
       "\n",
       "    SDW_winter  SDW_spring  SDW_fall  TJE_winter  TJE_spring  TJE_fall  \n",
       "11        57.0        58.0      57.0        53.0        68.0      51.0  \n",
       "12        57.0        60.0      57.0        60.0        61.0      60.0  \n",
       "13        64.0        63.0      33.0        60.0        56.0      38.0  "
      ]
     },
     "execution_count": 7,
     "metadata": {},
     "output_type": "execute_result"
    }
   ],
   "source": [
    "# Select all rows with year> 2020 \n",
    "post2020 = df[df['year']>2020]\n",
    "post2020"
   ]
  },
  {
   "cell_type": "code",
   "execution_count": 8,
   "id": "194db1a4-f873-4ea2-866b-fb2ffe5954ec",
   "metadata": {
    "tags": []
   },
   "outputs": [
    {
     "name": "stdout",
     "output_type": "stream",
     "text": [
      "<class 'pandas.core.series.Series'> \n",
      "\n"
     ]
    },
    {
     "data": {
      "text/plain": [
       "0     False\n",
       "1     False\n",
       "2     False\n",
       "3     False\n",
       "4     False\n",
       "5     False\n",
       "6     False\n",
       "7     False\n",
       "8     False\n",
       "9     False\n",
       "10    False\n",
       "11     True\n",
       "12     True\n",
       "13     True\n",
       "Name: year, dtype: bool"
      ]
     },
     "execution_count": 8,
     "metadata": {},
     "output_type": "execute_result"
    }
   ],
   "source": [
    "# Check the type of df ['year'] > 2020 \n",
    "print(type(df['year']> 2020),'\\n')\n",
    "\n",
    "# Print the boolean series\n",
    "df['year']>2020"
   ]
  },
  {
   "cell_type": "code",
   "execution_count": 9,
   "id": "26ef8562-2643-4f23-83f9-6a842c16f00c",
   "metadata": {
    "tags": []
   },
   "outputs": [
    {
     "data": {
      "text/html": [
       "<div>\n",
       "<style scoped>\n",
       "    .dataframe tbody tr th:only-of-type {\n",
       "        vertical-align: middle;\n",
       "    }\n",
       "\n",
       "    .dataframe tbody tr th {\n",
       "        vertical-align: top;\n",
       "    }\n",
       "\n",
       "    .dataframe thead th {\n",
       "        text-align: right;\n",
       "    }\n",
       "</style>\n",
       "<table border=\"1\" class=\"dataframe\">\n",
       "  <thead>\n",
       "    <tr style=\"text-align: right;\">\n",
       "      <th></th>\n",
       "      <th>year</th>\n",
       "      <th>CSM_winter</th>\n",
       "      <th>CSM_spring</th>\n",
       "      <th>CSM_fall</th>\n",
       "      <th>MUL_winter</th>\n",
       "      <th>MUL_spring</th>\n",
       "      <th>MUL_fall</th>\n",
       "      <th>SDW_winter</th>\n",
       "      <th>SDW_spring</th>\n",
       "      <th>SDW_fall</th>\n",
       "      <th>TJE_winter</th>\n",
       "      <th>TJE_spring</th>\n",
       "      <th>TJE_fall</th>\n",
       "    </tr>\n",
       "  </thead>\n",
       "  <tbody>\n",
       "    <tr>\n",
       "      <th>0</th>\n",
       "      <td>2010</td>\n",
       "      <td>39.0</td>\n",
       "      <td>40.0</td>\n",
       "      <td>50.0</td>\n",
       "      <td>45.0</td>\n",
       "      <td>NaN</td>\n",
       "      <td>61.0</td>\n",
       "      <td>NaN</td>\n",
       "      <td>75.0</td>\n",
       "      <td>85.0</td>\n",
       "      <td>NaN</td>\n",
       "      <td>NaN</td>\n",
       "      <td>81.0</td>\n",
       "    </tr>\n",
       "    <tr>\n",
       "      <th>4</th>\n",
       "      <td>2014</td>\n",
       "      <td>38.0</td>\n",
       "      <td>43.0</td>\n",
       "      <td>45.0</td>\n",
       "      <td>49.0</td>\n",
       "      <td>52.0</td>\n",
       "      <td>57.0</td>\n",
       "      <td>61.0</td>\n",
       "      <td>78.0</td>\n",
       "      <td>71.0</td>\n",
       "      <td>60.0</td>\n",
       "      <td>81.0</td>\n",
       "      <td>62.0</td>\n",
       "    </tr>\n",
       "  </tbody>\n",
       "</table>\n",
       "</div>"
      ],
      "text/plain": [
       "   year  CSM_winter  CSM_spring  CSM_fall  MUL_winter  MUL_spring  MUL_fall  \\\n",
       "0  2010        39.0        40.0      50.0        45.0         NaN      61.0   \n",
       "4  2014        38.0        43.0      45.0        49.0        52.0      57.0   \n",
       "\n",
       "   SDW_winter  SDW_spring  SDW_fall  TJE_winter  TJE_spring  TJE_fall  \n",
       "0         NaN        75.0      85.0         NaN         NaN      81.0  \n",
       "4        61.0        78.0      71.0        60.0        81.0      62.0  "
      ]
     },
     "execution_count": 9,
     "metadata": {},
     "output_type": "execute_result"
    }
   ],
   "source": [
    "sd75 = df[df['SDW_spring']>=75]\n",
    "\n",
    "sd75"
   ]
  },
  {
   "cell_type": "code",
   "execution_count": 10,
   "id": "097a692f-ce04-42d0-8d02-cc452c67af52",
   "metadata": {
    "tags": []
   },
   "outputs": [
    {
     "data": {
      "text/html": [
       "<div>\n",
       "<style scoped>\n",
       "    .dataframe tbody tr th:only-of-type {\n",
       "        vertical-align: middle;\n",
       "    }\n",
       "\n",
       "    .dataframe tbody tr th {\n",
       "        vertical-align: top;\n",
       "    }\n",
       "\n",
       "    .dataframe thead th {\n",
       "        text-align: right;\n",
       "    }\n",
       "</style>\n",
       "<table border=\"1\" class=\"dataframe\">\n",
       "  <thead>\n",
       "    <tr style=\"text-align: right;\">\n",
       "      <th></th>\n",
       "      <th>year</th>\n",
       "      <th>CSM_winter</th>\n",
       "      <th>CSM_spring</th>\n",
       "      <th>CSM_fall</th>\n",
       "      <th>MUL_winter</th>\n",
       "      <th>MUL_spring</th>\n",
       "      <th>MUL_fall</th>\n",
       "      <th>SDW_winter</th>\n",
       "      <th>SDW_spring</th>\n",
       "      <th>SDW_fall</th>\n",
       "      <th>TJE_winter</th>\n",
       "      <th>TJE_spring</th>\n",
       "      <th>TJE_fall</th>\n",
       "    </tr>\n",
       "  </thead>\n",
       "  <tbody>\n",
       "    <tr>\n",
       "      <th>2</th>\n",
       "      <td>2012</td>\n",
       "      <td>51.0</td>\n",
       "      <td>43.0</td>\n",
       "      <td>49.0</td>\n",
       "      <td>57.0</td>\n",
       "      <td>58.0</td>\n",
       "      <td>53.0</td>\n",
       "      <td>71.0</td>\n",
       "      <td>72.0</td>\n",
       "      <td>73.0</td>\n",
       "      <td>70.0</td>\n",
       "      <td>63.0</td>\n",
       "      <td>69.0</td>\n",
       "    </tr>\n",
       "    <tr>\n",
       "      <th>3</th>\n",
       "      <td>2013</td>\n",
       "      <td>42.0</td>\n",
       "      <td>46.0</td>\n",
       "      <td>38.0</td>\n",
       "      <td>60.0</td>\n",
       "      <td>58.0</td>\n",
       "      <td>62.0</td>\n",
       "      <td>69.0</td>\n",
       "      <td>70.0</td>\n",
       "      <td>70.0</td>\n",
       "      <td>69.0</td>\n",
       "      <td>74.0</td>\n",
       "      <td>64.0</td>\n",
       "    </tr>\n",
       "    <tr>\n",
       "      <th>4</th>\n",
       "      <td>2014</td>\n",
       "      <td>38.0</td>\n",
       "      <td>43.0</td>\n",
       "      <td>45.0</td>\n",
       "      <td>49.0</td>\n",
       "      <td>52.0</td>\n",
       "      <td>57.0</td>\n",
       "      <td>61.0</td>\n",
       "      <td>78.0</td>\n",
       "      <td>71.0</td>\n",
       "      <td>60.0</td>\n",
       "      <td>81.0</td>\n",
       "      <td>62.0</td>\n",
       "    </tr>\n",
       "    <tr>\n",
       "      <th>5</th>\n",
       "      <td>2015</td>\n",
       "      <td>44.0</td>\n",
       "      <td>42.0</td>\n",
       "      <td>45.0</td>\n",
       "      <td>58.0</td>\n",
       "      <td>50.0</td>\n",
       "      <td>51.0</td>\n",
       "      <td>71.0</td>\n",
       "      <td>61.0</td>\n",
       "      <td>65.0</td>\n",
       "      <td>73.0</td>\n",
       "      <td>76.0</td>\n",
       "      <td>64.0</td>\n",
       "    </tr>\n",
       "  </tbody>\n",
       "</table>\n",
       "</div>"
      ],
      "text/plain": [
       "   year  CSM_winter  CSM_spring  CSM_fall  MUL_winter  MUL_spring  MUL_fall  \\\n",
       "2  2012        51.0        43.0      49.0        57.0        58.0      53.0   \n",
       "3  2013        42.0        46.0      38.0        60.0        58.0      62.0   \n",
       "4  2014        38.0        43.0      45.0        49.0        52.0      57.0   \n",
       "5  2015        44.0        42.0      45.0        58.0        50.0      51.0   \n",
       "\n",
       "   SDW_winter  SDW_spring  SDW_fall  TJE_winter  TJE_spring  TJE_fall  \n",
       "2        71.0        72.0      73.0        70.0        63.0      69.0  \n",
       "3        69.0        70.0      70.0        69.0        74.0      64.0  \n",
       "4        61.0        78.0      71.0        60.0        81.0      62.0  \n",
       "5        71.0        61.0      65.0        73.0        76.0      64.0  "
      ]
     },
     "execution_count": 10,
     "metadata": {},
     "output_type": "execute_result"
    }
   ],
   "source": [
    "subset = df[df['year'].between(2012,2015)]\n",
    "subset"
   ]
  },
  {
   "cell_type": "code",
   "execution_count": 11,
   "id": "ff67ec5b-735d-41cf-b093-16364d955bda",
   "metadata": {
    "tags": []
   },
   "outputs": [
    {
     "data": {
      "text/html": [
       "<div>\n",
       "<style scoped>\n",
       "    .dataframe tbody tr th:only-of-type {\n",
       "        vertical-align: middle;\n",
       "    }\n",
       "\n",
       "    .dataframe tbody tr th {\n",
       "        vertical-align: top;\n",
       "    }\n",
       "\n",
       "    .dataframe thead th {\n",
       "        text-align: right;\n",
       "    }\n",
       "</style>\n",
       "<table border=\"1\" class=\"dataframe\">\n",
       "  <thead>\n",
       "    <tr style=\"text-align: right;\">\n",
       "      <th></th>\n",
       "      <th>year</th>\n",
       "      <th>CSM_winter</th>\n",
       "      <th>CSM_spring</th>\n",
       "      <th>CSM_fall</th>\n",
       "      <th>MUL_winter</th>\n",
       "      <th>MUL_spring</th>\n",
       "      <th>MUL_fall</th>\n",
       "      <th>SDW_winter</th>\n",
       "      <th>SDW_spring</th>\n",
       "      <th>SDW_fall</th>\n",
       "      <th>TJE_winter</th>\n",
       "      <th>TJE_spring</th>\n",
       "      <th>TJE_fall</th>\n",
       "    </tr>\n",
       "  </thead>\n",
       "  <tbody>\n",
       "    <tr>\n",
       "      <th>2</th>\n",
       "      <td>2012</td>\n",
       "      <td>51.0</td>\n",
       "      <td>43.0</td>\n",
       "      <td>49.0</td>\n",
       "      <td>57.0</td>\n",
       "      <td>58.0</td>\n",
       "      <td>53.0</td>\n",
       "      <td>71.0</td>\n",
       "      <td>72.0</td>\n",
       "      <td>73.0</td>\n",
       "      <td>70.0</td>\n",
       "      <td>63.0</td>\n",
       "      <td>69.0</td>\n",
       "    </tr>\n",
       "    <tr>\n",
       "      <th>11</th>\n",
       "      <td>2021</td>\n",
       "      <td>47.0</td>\n",
       "      <td>44.0</td>\n",
       "      <td>53.0</td>\n",
       "      <td>54.0</td>\n",
       "      <td>55.0</td>\n",
       "      <td>60.0</td>\n",
       "      <td>57.0</td>\n",
       "      <td>58.0</td>\n",
       "      <td>57.0</td>\n",
       "      <td>53.0</td>\n",
       "      <td>68.0</td>\n",
       "      <td>51.0</td>\n",
       "    </tr>\n",
       "    <tr>\n",
       "      <th>13</th>\n",
       "      <td>2023</td>\n",
       "      <td>56.0</td>\n",
       "      <td>43.0</td>\n",
       "      <td>36.0</td>\n",
       "      <td>72.0</td>\n",
       "      <td>59.0</td>\n",
       "      <td>53.0</td>\n",
       "      <td>64.0</td>\n",
       "      <td>63.0</td>\n",
       "      <td>33.0</td>\n",
       "      <td>60.0</td>\n",
       "      <td>56.0</td>\n",
       "      <td>38.0</td>\n",
       "    </tr>\n",
       "  </tbody>\n",
       "</table>\n",
       "</div>"
      ],
      "text/plain": [
       "    year  CSM_winter  CSM_spring  CSM_fall  MUL_winter  MUL_spring  MUL_fall  \\\n",
       "2   2012        51.0        43.0      49.0        57.0        58.0      53.0   \n",
       "11  2021        47.0        44.0      53.0        54.0        55.0      60.0   \n",
       "13  2023        56.0        43.0      36.0        72.0        59.0      53.0   \n",
       "\n",
       "    SDW_winter  SDW_spring  SDW_fall  TJE_winter  TJE_spring  TJE_fall  \n",
       "2         71.0        72.0      73.0        70.0        63.0      69.0  \n",
       "11        57.0        58.0      57.0        53.0        68.0      51.0  \n",
       "13        64.0        63.0      33.0        60.0        56.0      38.0  "
      ]
     },
     "execution_count": 11,
     "metadata": {},
     "output_type": "execute_result"
    }
   ],
   "source": [
    "# Select rows in CSM with 50 sp in winter or fall \n",
    "\n",
    "df[(df['CSM_winter']>50)| (df['CSM_fall']>50)]"
   ]
  },
  {
   "cell_type": "code",
   "execution_count": 12,
   "id": "8ab0b06b-d7c2-422c-932c-beacd897a8d3",
   "metadata": {
    "tags": []
   },
   "outputs": [
    {
     "data": {
      "text/html": [
       "<div>\n",
       "<style scoped>\n",
       "    .dataframe tbody tr th:only-of-type {\n",
       "        vertical-align: middle;\n",
       "    }\n",
       "\n",
       "    .dataframe tbody tr th {\n",
       "        vertical-align: top;\n",
       "    }\n",
       "\n",
       "    .dataframe thead th {\n",
       "        text-align: right;\n",
       "    }\n",
       "</style>\n",
       "<table border=\"1\" class=\"dataframe\">\n",
       "  <thead>\n",
       "    <tr style=\"text-align: right;\">\n",
       "      <th></th>\n",
       "      <th>year</th>\n",
       "      <th>CSM_winter</th>\n",
       "      <th>CSM_spring</th>\n",
       "      <th>CSM_fall</th>\n",
       "      <th>MUL_winter</th>\n",
       "      <th>MUL_spring</th>\n",
       "      <th>MUL_fall</th>\n",
       "      <th>SDW_winter</th>\n",
       "      <th>SDW_spring</th>\n",
       "      <th>SDW_fall</th>\n",
       "      <th>TJE_winter</th>\n",
       "      <th>TJE_spring</th>\n",
       "      <th>TJE_fall</th>\n",
       "    </tr>\n",
       "  </thead>\n",
       "  <tbody>\n",
       "  </tbody>\n",
       "</table>\n",
       "</div>"
      ],
      "text/plain": [
       "Empty DataFrame\n",
       "Columns: [year, CSM_winter, CSM_spring, CSM_fall, MUL_winter, MUL_spring, MUL_fall, SDW_winter, SDW_spring, SDW_fall, TJE_winter, TJE_spring, TJE_fall]\n",
       "Index: []"
      ]
     },
     "execution_count": 12,
     "metadata": {},
     "output_type": "execute_result"
    }
   ],
   "source": [
    "df[(df['CSM_spring']>60) & (df['SDW_spring']>60)]\n",
    "\n"
   ]
  },
  {
   "cell_type": "code",
   "execution_count": 13,
   "id": "cfb4ad11-9473-4a19-ae44-b4d9f3d3bc2c",
   "metadata": {
    "tags": []
   },
   "outputs": [
    {
     "data": {
      "text/html": [
       "<div>\n",
       "<style scoped>\n",
       "    .dataframe tbody tr th:only-of-type {\n",
       "        vertical-align: middle;\n",
       "    }\n",
       "\n",
       "    .dataframe tbody tr th {\n",
       "        vertical-align: top;\n",
       "    }\n",
       "\n",
       "    .dataframe thead th {\n",
       "        text-align: right;\n",
       "    }\n",
       "</style>\n",
       "<table border=\"1\" class=\"dataframe\">\n",
       "  <thead>\n",
       "    <tr style=\"text-align: right;\">\n",
       "      <th></th>\n",
       "      <th>year</th>\n",
       "      <th>CSM_winter</th>\n",
       "      <th>CSM_spring</th>\n",
       "      <th>CSM_fall</th>\n",
       "      <th>MUL_winter</th>\n",
       "      <th>MUL_spring</th>\n",
       "      <th>MUL_fall</th>\n",
       "      <th>SDW_winter</th>\n",
       "      <th>SDW_spring</th>\n",
       "      <th>SDW_fall</th>\n",
       "      <th>TJE_winter</th>\n",
       "      <th>TJE_spring</th>\n",
       "      <th>TJE_fall</th>\n",
       "    </tr>\n",
       "  </thead>\n",
       "  <tbody>\n",
       "    <tr>\n",
       "      <th>2</th>\n",
       "      <td>2012</td>\n",
       "      <td>51.0</td>\n",
       "      <td>43.0</td>\n",
       "      <td>49.0</td>\n",
       "      <td>57.0</td>\n",
       "      <td>58.0</td>\n",
       "      <td>53.0</td>\n",
       "      <td>71.0</td>\n",
       "      <td>72.0</td>\n",
       "      <td>73.0</td>\n",
       "      <td>70.0</td>\n",
       "      <td>63.0</td>\n",
       "      <td>69.0</td>\n",
       "    </tr>\n",
       "    <tr>\n",
       "      <th>11</th>\n",
       "      <td>2021</td>\n",
       "      <td>47.0</td>\n",
       "      <td>44.0</td>\n",
       "      <td>53.0</td>\n",
       "      <td>54.0</td>\n",
       "      <td>55.0</td>\n",
       "      <td>60.0</td>\n",
       "      <td>57.0</td>\n",
       "      <td>58.0</td>\n",
       "      <td>57.0</td>\n",
       "      <td>53.0</td>\n",
       "      <td>68.0</td>\n",
       "      <td>51.0</td>\n",
       "    </tr>\n",
       "    <tr>\n",
       "      <th>13</th>\n",
       "      <td>2023</td>\n",
       "      <td>56.0</td>\n",
       "      <td>43.0</td>\n",
       "      <td>36.0</td>\n",
       "      <td>72.0</td>\n",
       "      <td>59.0</td>\n",
       "      <td>53.0</td>\n",
       "      <td>64.0</td>\n",
       "      <td>63.0</td>\n",
       "      <td>33.0</td>\n",
       "      <td>60.0</td>\n",
       "      <td>56.0</td>\n",
       "      <td>38.0</td>\n",
       "    </tr>\n",
       "  </tbody>\n",
       "</table>\n",
       "</div>"
      ],
      "text/plain": [
       "    year  CSM_winter  CSM_spring  CSM_fall  MUL_winter  MUL_spring  MUL_fall  \\\n",
       "2   2012        51.0        43.0      49.0        57.0        58.0      53.0   \n",
       "11  2021        47.0        44.0      53.0        54.0        55.0      60.0   \n",
       "13  2023        56.0        43.0      36.0        72.0        59.0      53.0   \n",
       "\n",
       "    SDW_winter  SDW_spring  SDW_fall  TJE_winter  TJE_spring  TJE_fall  \n",
       "2         71.0        72.0      73.0        70.0        63.0      69.0  \n",
       "11        57.0        58.0      57.0        53.0        68.0      51.0  \n",
       "13        64.0        63.0      33.0        60.0        56.0      38.0  "
      ]
     },
     "execution_count": 13,
     "metadata": {},
     "output_type": "execute_result"
    }
   ],
   "source": [
    "cond1 = df['CSM_winter']>50\n",
    "cond2 = df['CSM_fall']>50\n",
    "\n",
    "df[cond1|cond2]"
   ]
  },
  {
   "cell_type": "code",
   "execution_count": 14,
   "id": "03c252e1-d92f-4b91-83dd-e225170fb946",
   "metadata": {
    "tags": []
   },
   "outputs": [
    {
     "data": {
      "text/plain": [
       "year          2014.0\n",
       "CSM_winter      38.0\n",
       "CSM_spring      43.0\n",
       "CSM_fall        45.0\n",
       "MUL_winter      49.0\n",
       "MUL_spring      52.0\n",
       "MUL_fall        57.0\n",
       "SDW_winter      61.0\n",
       "SDW_spring      78.0\n",
       "SDW_fall        71.0\n",
       "TJE_winter      60.0\n",
       "TJE_spring      81.0\n",
       "TJE_fall        62.0\n",
       "Name: 4, dtype: float64"
      ]
     },
     "execution_count": 14,
     "metadata": {},
     "output_type": "execute_result"
    }
   ],
   "source": [
    "#5th row\n",
    "df.iloc[4]"
   ]
  },
  {
   "cell_type": "code",
   "execution_count": 15,
   "id": "9c01dcb8-fbb3-41f5-9b03-4a79b939f252",
   "metadata": {
    "tags": []
   },
   "outputs": [
    {
     "data": {
      "text/html": [
       "<div>\n",
       "<style scoped>\n",
       "    .dataframe tbody tr th:only-of-type {\n",
       "        vertical-align: middle;\n",
       "    }\n",
       "\n",
       "    .dataframe tbody tr th {\n",
       "        vertical-align: top;\n",
       "    }\n",
       "\n",
       "    .dataframe thead th {\n",
       "        text-align: right;\n",
       "    }\n",
       "</style>\n",
       "<table border=\"1\" class=\"dataframe\">\n",
       "  <thead>\n",
       "    <tr style=\"text-align: right;\">\n",
       "      <th></th>\n",
       "      <th>CSM_winter</th>\n",
       "      <th>CSM_spring</th>\n",
       "      <th>CSM_fall</th>\n",
       "      <th>MUL_winter</th>\n",
       "      <th>MUL_spring</th>\n",
       "      <th>MUL_fall</th>\n",
       "      <th>SDW_winter</th>\n",
       "      <th>SDW_spring</th>\n",
       "      <th>SDW_fall</th>\n",
       "      <th>TJE_winter</th>\n",
       "      <th>TJE_spring</th>\n",
       "      <th>TJE_fall</th>\n",
       "    </tr>\n",
       "    <tr>\n",
       "      <th>year</th>\n",
       "      <th></th>\n",
       "      <th></th>\n",
       "      <th></th>\n",
       "      <th></th>\n",
       "      <th></th>\n",
       "      <th></th>\n",
       "      <th></th>\n",
       "      <th></th>\n",
       "      <th></th>\n",
       "      <th></th>\n",
       "      <th></th>\n",
       "      <th></th>\n",
       "    </tr>\n",
       "  </thead>\n",
       "  <tbody>\n",
       "    <tr>\n",
       "      <th>2010</th>\n",
       "      <td>39.0</td>\n",
       "      <td>40.0</td>\n",
       "      <td>50.0</td>\n",
       "      <td>45.0</td>\n",
       "      <td>NaN</td>\n",
       "      <td>61.0</td>\n",
       "      <td>NaN</td>\n",
       "      <td>75.0</td>\n",
       "      <td>85.0</td>\n",
       "      <td>NaN</td>\n",
       "      <td>NaN</td>\n",
       "      <td>81.0</td>\n",
       "    </tr>\n",
       "    <tr>\n",
       "      <th>2011</th>\n",
       "      <td>48.0</td>\n",
       "      <td>44.0</td>\n",
       "      <td>NaN</td>\n",
       "      <td>58.0</td>\n",
       "      <td>52.0</td>\n",
       "      <td>NaN</td>\n",
       "      <td>78.0</td>\n",
       "      <td>74.0</td>\n",
       "      <td>NaN</td>\n",
       "      <td>67.0</td>\n",
       "      <td>70.0</td>\n",
       "      <td>NaN</td>\n",
       "    </tr>\n",
       "    <tr>\n",
       "      <th>2012</th>\n",
       "      <td>51.0</td>\n",
       "      <td>43.0</td>\n",
       "      <td>49.0</td>\n",
       "      <td>57.0</td>\n",
       "      <td>58.0</td>\n",
       "      <td>53.0</td>\n",
       "      <td>71.0</td>\n",
       "      <td>72.0</td>\n",
       "      <td>73.0</td>\n",
       "      <td>70.0</td>\n",
       "      <td>63.0</td>\n",
       "      <td>69.0</td>\n",
       "    </tr>\n",
       "    <tr>\n",
       "      <th>2013</th>\n",
       "      <td>42.0</td>\n",
       "      <td>46.0</td>\n",
       "      <td>38.0</td>\n",
       "      <td>60.0</td>\n",
       "      <td>58.0</td>\n",
       "      <td>62.0</td>\n",
       "      <td>69.0</td>\n",
       "      <td>70.0</td>\n",
       "      <td>70.0</td>\n",
       "      <td>69.0</td>\n",
       "      <td>74.0</td>\n",
       "      <td>64.0</td>\n",
       "    </tr>\n",
       "    <tr>\n",
       "      <th>2014</th>\n",
       "      <td>38.0</td>\n",
       "      <td>43.0</td>\n",
       "      <td>45.0</td>\n",
       "      <td>49.0</td>\n",
       "      <td>52.0</td>\n",
       "      <td>57.0</td>\n",
       "      <td>61.0</td>\n",
       "      <td>78.0</td>\n",
       "      <td>71.0</td>\n",
       "      <td>60.0</td>\n",
       "      <td>81.0</td>\n",
       "      <td>62.0</td>\n",
       "    </tr>\n",
       "    <tr>\n",
       "      <th>2015</th>\n",
       "      <td>44.0</td>\n",
       "      <td>42.0</td>\n",
       "      <td>45.0</td>\n",
       "      <td>58.0</td>\n",
       "      <td>50.0</td>\n",
       "      <td>51.0</td>\n",
       "      <td>71.0</td>\n",
       "      <td>61.0</td>\n",
       "      <td>65.0</td>\n",
       "      <td>73.0</td>\n",
       "      <td>76.0</td>\n",
       "      <td>64.0</td>\n",
       "    </tr>\n",
       "    <tr>\n",
       "      <th>2016</th>\n",
       "      <td>41.0</td>\n",
       "      <td>36.0</td>\n",
       "      <td>47.0</td>\n",
       "      <td>63.0</td>\n",
       "      <td>48.0</td>\n",
       "      <td>58.0</td>\n",
       "      <td>67.0</td>\n",
       "      <td>62.0</td>\n",
       "      <td>57.0</td>\n",
       "      <td>76.0</td>\n",
       "      <td>76.0</td>\n",
       "      <td>58.0</td>\n",
       "    </tr>\n",
       "    <tr>\n",
       "      <th>2017</th>\n",
       "      <td>46.0</td>\n",
       "      <td>41.0</td>\n",
       "      <td>43.0</td>\n",
       "      <td>57.0</td>\n",
       "      <td>54.0</td>\n",
       "      <td>53.0</td>\n",
       "      <td>66.0</td>\n",
       "      <td>45.0</td>\n",
       "      <td>54.0</td>\n",
       "      <td>72.0</td>\n",
       "      <td>63.0</td>\n",
       "      <td>57.0</td>\n",
       "    </tr>\n",
       "    <tr>\n",
       "      <th>2018</th>\n",
       "      <td>48.0</td>\n",
       "      <td>48.0</td>\n",
       "      <td>44.0</td>\n",
       "      <td>56.0</td>\n",
       "      <td>54.0</td>\n",
       "      <td>57.0</td>\n",
       "      <td>55.0</td>\n",
       "      <td>49.0</td>\n",
       "      <td>51.0</td>\n",
       "      <td>66.0</td>\n",
       "      <td>60.0</td>\n",
       "      <td>55.0</td>\n",
       "    </tr>\n",
       "    <tr>\n",
       "      <th>2019</th>\n",
       "      <td>39.0</td>\n",
       "      <td>39.0</td>\n",
       "      <td>40.0</td>\n",
       "      <td>57.0</td>\n",
       "      <td>52.0</td>\n",
       "      <td>53.0</td>\n",
       "      <td>54.0</td>\n",
       "      <td>55.0</td>\n",
       "      <td>53.0</td>\n",
       "      <td>63.0</td>\n",
       "      <td>54.0</td>\n",
       "      <td>50.0</td>\n",
       "    </tr>\n",
       "    <tr>\n",
       "      <th>2020</th>\n",
       "      <td>46.0</td>\n",
       "      <td>NaN</td>\n",
       "      <td>47.0</td>\n",
       "      <td>56.0</td>\n",
       "      <td>NaN</td>\n",
       "      <td>66.0</td>\n",
       "      <td>57.0</td>\n",
       "      <td>NaN</td>\n",
       "      <td>58.0</td>\n",
       "      <td>54.0</td>\n",
       "      <td>40.0</td>\n",
       "      <td>54.0</td>\n",
       "    </tr>\n",
       "    <tr>\n",
       "      <th>2021</th>\n",
       "      <td>47.0</td>\n",
       "      <td>44.0</td>\n",
       "      <td>53.0</td>\n",
       "      <td>54.0</td>\n",
       "      <td>55.0</td>\n",
       "      <td>60.0</td>\n",
       "      <td>57.0</td>\n",
       "      <td>58.0</td>\n",
       "      <td>57.0</td>\n",
       "      <td>53.0</td>\n",
       "      <td>68.0</td>\n",
       "      <td>51.0</td>\n",
       "    </tr>\n",
       "    <tr>\n",
       "      <th>2022</th>\n",
       "      <td>40.0</td>\n",
       "      <td>46.0</td>\n",
       "      <td>49.0</td>\n",
       "      <td>60.0</td>\n",
       "      <td>55.0</td>\n",
       "      <td>65.0</td>\n",
       "      <td>57.0</td>\n",
       "      <td>60.0</td>\n",
       "      <td>57.0</td>\n",
       "      <td>60.0</td>\n",
       "      <td>61.0</td>\n",
       "      <td>60.0</td>\n",
       "    </tr>\n",
       "    <tr>\n",
       "      <th>2023</th>\n",
       "      <td>56.0</td>\n",
       "      <td>43.0</td>\n",
       "      <td>36.0</td>\n",
       "      <td>72.0</td>\n",
       "      <td>59.0</td>\n",
       "      <td>53.0</td>\n",
       "      <td>64.0</td>\n",
       "      <td>63.0</td>\n",
       "      <td>33.0</td>\n",
       "      <td>60.0</td>\n",
       "      <td>56.0</td>\n",
       "      <td>38.0</td>\n",
       "    </tr>\n",
       "  </tbody>\n",
       "</table>\n",
       "</div>"
      ],
      "text/plain": [
       "      CSM_winter  CSM_spring  CSM_fall  MUL_winter  MUL_spring  MUL_fall  \\\n",
       "year                                                                       \n",
       "2010        39.0        40.0      50.0        45.0         NaN      61.0   \n",
       "2011        48.0        44.0       NaN        58.0        52.0       NaN   \n",
       "2012        51.0        43.0      49.0        57.0        58.0      53.0   \n",
       "2013        42.0        46.0      38.0        60.0        58.0      62.0   \n",
       "2014        38.0        43.0      45.0        49.0        52.0      57.0   \n",
       "2015        44.0        42.0      45.0        58.0        50.0      51.0   \n",
       "2016        41.0        36.0      47.0        63.0        48.0      58.0   \n",
       "2017        46.0        41.0      43.0        57.0        54.0      53.0   \n",
       "2018        48.0        48.0      44.0        56.0        54.0      57.0   \n",
       "2019        39.0        39.0      40.0        57.0        52.0      53.0   \n",
       "2020        46.0         NaN      47.0        56.0         NaN      66.0   \n",
       "2021        47.0        44.0      53.0        54.0        55.0      60.0   \n",
       "2022        40.0        46.0      49.0        60.0        55.0      65.0   \n",
       "2023        56.0        43.0      36.0        72.0        59.0      53.0   \n",
       "\n",
       "      SDW_winter  SDW_spring  SDW_fall  TJE_winter  TJE_spring  TJE_fall  \n",
       "year                                                                      \n",
       "2010         NaN        75.0      85.0         NaN         NaN      81.0  \n",
       "2011        78.0        74.0       NaN        67.0        70.0       NaN  \n",
       "2012        71.0        72.0      73.0        70.0        63.0      69.0  \n",
       "2013        69.0        70.0      70.0        69.0        74.0      64.0  \n",
       "2014        61.0        78.0      71.0        60.0        81.0      62.0  \n",
       "2015        71.0        61.0      65.0        73.0        76.0      64.0  \n",
       "2016        67.0        62.0      57.0        76.0        76.0      58.0  \n",
       "2017        66.0        45.0      54.0        72.0        63.0      57.0  \n",
       "2018        55.0        49.0      51.0        66.0        60.0      55.0  \n",
       "2019        54.0        55.0      53.0        63.0        54.0      50.0  \n",
       "2020        57.0         NaN      58.0        54.0        40.0      54.0  \n",
       "2021        57.0        58.0      57.0        53.0        68.0      51.0  \n",
       "2022        57.0        60.0      57.0        60.0        61.0      60.0  \n",
       "2023        64.0        63.0      33.0        60.0        56.0      38.0  "
      ]
     },
     "execution_count": 15,
     "metadata": {},
     "output_type": "execute_result"
    }
   ],
   "source": [
    "df2 = df.set_index('year')\n",
    "df2"
   ]
  },
  {
   "cell_type": "code",
   "execution_count": 16,
   "id": "9e204d1b-b240-4374-9cb2-680bc1f6eddc",
   "metadata": {
    "tags": []
   },
   "outputs": [
    {
     "data": {
      "text/plain": [
       "CSM_winter    38.0\n",
       "CSM_spring    43.0\n",
       "CSM_fall      45.0\n",
       "MUL_winter    49.0\n",
       "MUL_spring    52.0\n",
       "MUL_fall      57.0\n",
       "SDW_winter    61.0\n",
       "SDW_spring    78.0\n",
       "SDW_fall      71.0\n",
       "TJE_winter    60.0\n",
       "TJE_spring    81.0\n",
       "TJE_fall      62.0\n",
       "Name: 2014, dtype: float64"
      ]
     },
     "execution_count": 16,
     "metadata": {},
     "output_type": "execute_result"
    }
   ],
   "source": [
    "df2.loc[2014]"
   ]
  },
  {
   "cell_type": "code",
   "execution_count": 17,
   "id": "bee0d640-24cf-46d6-8369-74a9bf42f56b",
   "metadata": {
    "tags": []
   },
   "outputs": [
    {
     "data": {
      "text/html": [
       "<div>\n",
       "<style scoped>\n",
       "    .dataframe tbody tr th:only-of-type {\n",
       "        vertical-align: middle;\n",
       "    }\n",
       "\n",
       "    .dataframe tbody tr th {\n",
       "        vertical-align: top;\n",
       "    }\n",
       "\n",
       "    .dataframe thead th {\n",
       "        text-align: right;\n",
       "    }\n",
       "</style>\n",
       "<table border=\"1\" class=\"dataframe\">\n",
       "  <thead>\n",
       "    <tr style=\"text-align: right;\">\n",
       "      <th></th>\n",
       "      <th>MUL_winter</th>\n",
       "      <th>TJE_winter</th>\n",
       "    </tr>\n",
       "  </thead>\n",
       "  <tbody>\n",
       "    <tr>\n",
       "      <th>11</th>\n",
       "      <td>54.0</td>\n",
       "      <td>53.0</td>\n",
       "    </tr>\n",
       "    <tr>\n",
       "      <th>12</th>\n",
       "      <td>60.0</td>\n",
       "      <td>60.0</td>\n",
       "    </tr>\n",
       "    <tr>\n",
       "      <th>13</th>\n",
       "      <td>72.0</td>\n",
       "      <td>60.0</td>\n",
       "    </tr>\n",
       "  </tbody>\n",
       "</table>\n",
       "</div>"
      ],
      "text/plain": [
       "    MUL_winter  TJE_winter\n",
       "11        54.0        53.0\n",
       "12        60.0        60.0\n",
       "13        72.0        60.0"
      ]
     },
     "execution_count": 17,
     "metadata": {},
     "output_type": "execute_result"
    }
   ],
   "source": [
    "df.loc[df['year']>2020, ['MUL_winter', 'TJE_winter']]"
   ]
  },
  {
   "cell_type": "code",
   "execution_count": 18,
   "id": "70d14613-e404-4999-a473-2779e194c182",
   "metadata": {
    "tags": []
   },
   "outputs": [
    {
     "data": {
      "text/html": [
       "<div>\n",
       "<style scoped>\n",
       "    .dataframe tbody tr th:only-of-type {\n",
       "        vertical-align: middle;\n",
       "    }\n",
       "\n",
       "    .dataframe tbody tr th {\n",
       "        vertical-align: top;\n",
       "    }\n",
       "\n",
       "    .dataframe thead th {\n",
       "        text-align: right;\n",
       "    }\n",
       "</style>\n",
       "<table border=\"1\" class=\"dataframe\">\n",
       "  <thead>\n",
       "    <tr style=\"text-align: right;\">\n",
       "      <th></th>\n",
       "      <th>CSM_fall</th>\n",
       "      <th>MUL_winter</th>\n",
       "    </tr>\n",
       "  </thead>\n",
       "  <tbody>\n",
       "    <tr>\n",
       "      <th>3</th>\n",
       "      <td>38.0</td>\n",
       "      <td>60.0</td>\n",
       "    </tr>\n",
       "    <tr>\n",
       "      <th>4</th>\n",
       "      <td>45.0</td>\n",
       "      <td>49.0</td>\n",
       "    </tr>\n",
       "    <tr>\n",
       "      <th>5</th>\n",
       "      <td>45.0</td>\n",
       "      <td>58.0</td>\n",
       "    </tr>\n",
       "    <tr>\n",
       "      <th>6</th>\n",
       "      <td>47.0</td>\n",
       "      <td>63.0</td>\n",
       "    </tr>\n",
       "    <tr>\n",
       "      <th>7</th>\n",
       "      <td>43.0</td>\n",
       "      <td>57.0</td>\n",
       "    </tr>\n",
       "  </tbody>\n",
       "</table>\n",
       "</div>"
      ],
      "text/plain": [
       "   CSM_fall  MUL_winter\n",
       "3      38.0        60.0\n",
       "4      45.0        49.0\n",
       "5      45.0        58.0\n",
       "6      47.0        63.0\n",
       "7      43.0        57.0"
      ]
     },
     "execution_count": 18,
     "metadata": {},
     "output_type": "execute_result"
    }
   ],
   "source": [
    "df.iloc[ 3:8, [3,4]]"
   ]
  },
  {
   "cell_type": "code",
   "execution_count": 19,
   "id": "e7859934-2f5d-40c4-9e3d-46740c3b07f0",
   "metadata": {
    "tags": []
   },
   "outputs": [
    {
     "data": {
      "text/plain": [
       "0     75.0\n",
       "1     74.0\n",
       "2     72.0\n",
       "3     70.0\n",
       "4     78.0\n",
       "5     61.0\n",
       "6     62.0\n",
       "7     45.0\n",
       "8     49.0\n",
       "9     55.0\n",
       "10     NaN\n",
       "11    58.0\n",
       "12    60.0\n",
       "13    63.0\n",
       "Name: SDW_spring, dtype: float64"
      ]
     },
     "execution_count": 19,
     "metadata": {},
     "output_type": "execute_result"
    }
   ],
   "source": [
    "df.iloc[:,8]"
   ]
  },
  {
   "cell_type": "code",
   "execution_count": 20,
   "id": "85347502-93f6-4acb-ba55-5a9a03b76504",
   "metadata": {
    "collapsed": true,
    "jupyter": {
     "outputs_hidden": true
    },
    "tags": []
   },
   "outputs": [
    {
     "ename": "KeyError",
     "evalue": "'SDW_spring'",
     "output_type": "error",
     "traceback": [
      "\u001b[0;31m---------------------------------------------------------------------------\u001b[0m",
      "\u001b[0;31mKeyError\u001b[0m                                  Traceback (most recent call last)",
      "Cell \u001b[0;32mIn[20], line 1\u001b[0m\n\u001b[0;32m----> 1\u001b[0m \u001b[43mdf\u001b[49m\u001b[38;5;241;43m.\u001b[39;49m\u001b[43mloc\u001b[49m\u001b[43m[\u001b[49m\u001b[38;5;124;43m'\u001b[39;49m\u001b[38;5;124;43mSDW_spring\u001b[39;49m\u001b[38;5;124;43m'\u001b[39;49m\u001b[43m]\u001b[49m\n",
      "File \u001b[0;32m/opt/anaconda3/envs/eds220-env/lib/python3.11/site-packages/pandas/core/indexing.py:1191\u001b[0m, in \u001b[0;36m_LocationIndexer.__getitem__\u001b[0;34m(self, key)\u001b[0m\n\u001b[1;32m   1189\u001b[0m maybe_callable \u001b[38;5;241m=\u001b[39m com\u001b[38;5;241m.\u001b[39mapply_if_callable(key, \u001b[38;5;28mself\u001b[39m\u001b[38;5;241m.\u001b[39mobj)\n\u001b[1;32m   1190\u001b[0m maybe_callable \u001b[38;5;241m=\u001b[39m \u001b[38;5;28mself\u001b[39m\u001b[38;5;241m.\u001b[39m_check_deprecated_callable_usage(key, maybe_callable)\n\u001b[0;32m-> 1191\u001b[0m \u001b[38;5;28;01mreturn\u001b[39;00m \u001b[38;5;28;43mself\u001b[39;49m\u001b[38;5;241;43m.\u001b[39;49m\u001b[43m_getitem_axis\u001b[49m\u001b[43m(\u001b[49m\u001b[43mmaybe_callable\u001b[49m\u001b[43m,\u001b[49m\u001b[43m \u001b[49m\u001b[43maxis\u001b[49m\u001b[38;5;241;43m=\u001b[39;49m\u001b[43maxis\u001b[49m\u001b[43m)\u001b[49m\n",
      "File \u001b[0;32m/opt/anaconda3/envs/eds220-env/lib/python3.11/site-packages/pandas/core/indexing.py:1431\u001b[0m, in \u001b[0;36m_LocIndexer._getitem_axis\u001b[0;34m(self, key, axis)\u001b[0m\n\u001b[1;32m   1429\u001b[0m \u001b[38;5;66;03m# fall thru to straight lookup\u001b[39;00m\n\u001b[1;32m   1430\u001b[0m \u001b[38;5;28mself\u001b[39m\u001b[38;5;241m.\u001b[39m_validate_key(key, axis)\n\u001b[0;32m-> 1431\u001b[0m \u001b[38;5;28;01mreturn\u001b[39;00m \u001b[38;5;28;43mself\u001b[39;49m\u001b[38;5;241;43m.\u001b[39;49m\u001b[43m_get_label\u001b[49m\u001b[43m(\u001b[49m\u001b[43mkey\u001b[49m\u001b[43m,\u001b[49m\u001b[43m \u001b[49m\u001b[43maxis\u001b[49m\u001b[38;5;241;43m=\u001b[39;49m\u001b[43maxis\u001b[49m\u001b[43m)\u001b[49m\n",
      "File \u001b[0;32m/opt/anaconda3/envs/eds220-env/lib/python3.11/site-packages/pandas/core/indexing.py:1381\u001b[0m, in \u001b[0;36m_LocIndexer._get_label\u001b[0;34m(self, label, axis)\u001b[0m\n\u001b[1;32m   1379\u001b[0m \u001b[38;5;28;01mdef\u001b[39;00m \u001b[38;5;21m_get_label\u001b[39m(\u001b[38;5;28mself\u001b[39m, label, axis: AxisInt):\n\u001b[1;32m   1380\u001b[0m     \u001b[38;5;66;03m# GH#5567 this will fail if the label is not present in the axis.\u001b[39;00m\n\u001b[0;32m-> 1381\u001b[0m     \u001b[38;5;28;01mreturn\u001b[39;00m \u001b[38;5;28;43mself\u001b[39;49m\u001b[38;5;241;43m.\u001b[39;49m\u001b[43mobj\u001b[49m\u001b[38;5;241;43m.\u001b[39;49m\u001b[43mxs\u001b[49m\u001b[43m(\u001b[49m\u001b[43mlabel\u001b[49m\u001b[43m,\u001b[49m\u001b[43m \u001b[49m\u001b[43maxis\u001b[49m\u001b[38;5;241;43m=\u001b[39;49m\u001b[43maxis\u001b[49m\u001b[43m)\u001b[49m\n",
      "File \u001b[0;32m/opt/anaconda3/envs/eds220-env/lib/python3.11/site-packages/pandas/core/generic.py:4301\u001b[0m, in \u001b[0;36mNDFrame.xs\u001b[0;34m(self, key, axis, level, drop_level)\u001b[0m\n\u001b[1;32m   4299\u001b[0m             new_index \u001b[38;5;241m=\u001b[39m index[loc]\n\u001b[1;32m   4300\u001b[0m \u001b[38;5;28;01melse\u001b[39;00m:\n\u001b[0;32m-> 4301\u001b[0m     loc \u001b[38;5;241m=\u001b[39m \u001b[43mindex\u001b[49m\u001b[38;5;241;43m.\u001b[39;49m\u001b[43mget_loc\u001b[49m\u001b[43m(\u001b[49m\u001b[43mkey\u001b[49m\u001b[43m)\u001b[49m\n\u001b[1;32m   4303\u001b[0m     \u001b[38;5;28;01mif\u001b[39;00m \u001b[38;5;28misinstance\u001b[39m(loc, np\u001b[38;5;241m.\u001b[39mndarray):\n\u001b[1;32m   4304\u001b[0m         \u001b[38;5;28;01mif\u001b[39;00m loc\u001b[38;5;241m.\u001b[39mdtype \u001b[38;5;241m==\u001b[39m np\u001b[38;5;241m.\u001b[39mbool_:\n",
      "File \u001b[0;32m/opt/anaconda3/envs/eds220-env/lib/python3.11/site-packages/pandas/core/indexes/range.py:417\u001b[0m, in \u001b[0;36mRangeIndex.get_loc\u001b[0;34m(self, key)\u001b[0m\n\u001b[1;32m    415\u001b[0m         \u001b[38;5;28;01mraise\u001b[39;00m \u001b[38;5;167;01mKeyError\u001b[39;00m(key) \u001b[38;5;28;01mfrom\u001b[39;00m \u001b[38;5;21;01merr\u001b[39;00m\n\u001b[1;32m    416\u001b[0m \u001b[38;5;28;01mif\u001b[39;00m \u001b[38;5;28misinstance\u001b[39m(key, Hashable):\n\u001b[0;32m--> 417\u001b[0m     \u001b[38;5;28;01mraise\u001b[39;00m \u001b[38;5;167;01mKeyError\u001b[39;00m(key)\n\u001b[1;32m    418\u001b[0m \u001b[38;5;28mself\u001b[39m\u001b[38;5;241m.\u001b[39m_check_indexing_error(key)\n\u001b[1;32m    419\u001b[0m \u001b[38;5;28;01mraise\u001b[39;00m \u001b[38;5;167;01mKeyError\u001b[39;00m(key)\n",
      "\u001b[0;31mKeyError\u001b[0m: 'SDW_spring'"
     ]
    }
   ],
   "source": [
    "df.loc['SDW_spring']"
   ]
  },
  {
   "cell_type": "markdown",
   "id": "bae41e8b-5fb2-4016-8afe-c4a874fbdc1b",
   "metadata": {},
   "source": [
    "\n",
    "### Check-in\n",
    "\n",
    "Plot a graph of the spring bird surveys at Mugu Lagoon with respect to the years. Include some basic customization.\n",
    "\n",
    "Use the isna() method for pandas.Series and row selection to select the rows in which Mugu Lagoon has NAs during the spring survey."
   ]
  },
  {
   "cell_type": "code",
   "execution_count": 21,
   "id": "d0bc751b-93be-419a-aef7-8023190d5857",
   "metadata": {
    "tags": []
   },
   "outputs": [
    {
     "data": {
      "text/html": [
       "<div>\n",
       "<style scoped>\n",
       "    .dataframe tbody tr th:only-of-type {\n",
       "        vertical-align: middle;\n",
       "    }\n",
       "\n",
       "    .dataframe tbody tr th {\n",
       "        vertical-align: top;\n",
       "    }\n",
       "\n",
       "    .dataframe thead th {\n",
       "        text-align: right;\n",
       "    }\n",
       "</style>\n",
       "<table border=\"1\" class=\"dataframe\">\n",
       "  <thead>\n",
       "    <tr style=\"text-align: right;\">\n",
       "      <th></th>\n",
       "      <th>year</th>\n",
       "      <th>CSM_winter</th>\n",
       "      <th>CSM_spring</th>\n",
       "      <th>CSM_fall</th>\n",
       "      <th>MUL_winter</th>\n",
       "      <th>MUL_spring</th>\n",
       "      <th>MUL_fall</th>\n",
       "      <th>SDW_winter</th>\n",
       "      <th>SDW_spring</th>\n",
       "      <th>SDW_fall</th>\n",
       "      <th>TJE_winter</th>\n",
       "      <th>TJE_spring</th>\n",
       "      <th>TJE_fall</th>\n",
       "    </tr>\n",
       "  </thead>\n",
       "  <tbody>\n",
       "    <tr>\n",
       "      <th>0</th>\n",
       "      <td>2010</td>\n",
       "      <td>39.0</td>\n",
       "      <td>40.0</td>\n",
       "      <td>50.0</td>\n",
       "      <td>45.0</td>\n",
       "      <td>NaN</td>\n",
       "      <td>61.0</td>\n",
       "      <td>NaN</td>\n",
       "      <td>75.0</td>\n",
       "      <td>85.0</td>\n",
       "      <td>NaN</td>\n",
       "      <td>NaN</td>\n",
       "      <td>81.0</td>\n",
       "    </tr>\n",
       "    <tr>\n",
       "      <th>1</th>\n",
       "      <td>2011</td>\n",
       "      <td>48.0</td>\n",
       "      <td>44.0</td>\n",
       "      <td>NaN</td>\n",
       "      <td>58.0</td>\n",
       "      <td>52.0</td>\n",
       "      <td>NaN</td>\n",
       "      <td>78.0</td>\n",
       "      <td>74.0</td>\n",
       "      <td>NaN</td>\n",
       "      <td>67.0</td>\n",
       "      <td>70.0</td>\n",
       "      <td>NaN</td>\n",
       "    </tr>\n",
       "    <tr>\n",
       "      <th>2</th>\n",
       "      <td>2012</td>\n",
       "      <td>51.0</td>\n",
       "      <td>43.0</td>\n",
       "      <td>49.0</td>\n",
       "      <td>57.0</td>\n",
       "      <td>58.0</td>\n",
       "      <td>53.0</td>\n",
       "      <td>71.0</td>\n",
       "      <td>72.0</td>\n",
       "      <td>73.0</td>\n",
       "      <td>70.0</td>\n",
       "      <td>63.0</td>\n",
       "      <td>69.0</td>\n",
       "    </tr>\n",
       "    <tr>\n",
       "      <th>3</th>\n",
       "      <td>2013</td>\n",
       "      <td>42.0</td>\n",
       "      <td>46.0</td>\n",
       "      <td>38.0</td>\n",
       "      <td>60.0</td>\n",
       "      <td>58.0</td>\n",
       "      <td>62.0</td>\n",
       "      <td>69.0</td>\n",
       "      <td>70.0</td>\n",
       "      <td>70.0</td>\n",
       "      <td>69.0</td>\n",
       "      <td>74.0</td>\n",
       "      <td>64.0</td>\n",
       "    </tr>\n",
       "    <tr>\n",
       "      <th>4</th>\n",
       "      <td>2014</td>\n",
       "      <td>38.0</td>\n",
       "      <td>43.0</td>\n",
       "      <td>45.0</td>\n",
       "      <td>49.0</td>\n",
       "      <td>52.0</td>\n",
       "      <td>57.0</td>\n",
       "      <td>61.0</td>\n",
       "      <td>78.0</td>\n",
       "      <td>71.0</td>\n",
       "      <td>60.0</td>\n",
       "      <td>81.0</td>\n",
       "      <td>62.0</td>\n",
       "    </tr>\n",
       "  </tbody>\n",
       "</table>\n",
       "</div>"
      ],
      "text/plain": [
       "   year  CSM_winter  CSM_spring  CSM_fall  MUL_winter  MUL_spring  MUL_fall  \\\n",
       "0  2010        39.0        40.0      50.0        45.0         NaN      61.0   \n",
       "1  2011        48.0        44.0       NaN        58.0        52.0       NaN   \n",
       "2  2012        51.0        43.0      49.0        57.0        58.0      53.0   \n",
       "3  2013        42.0        46.0      38.0        60.0        58.0      62.0   \n",
       "4  2014        38.0        43.0      45.0        49.0        52.0      57.0   \n",
       "\n",
       "   SDW_winter  SDW_spring  SDW_fall  TJE_winter  TJE_spring  TJE_fall  \n",
       "0         NaN        75.0      85.0         NaN         NaN      81.0  \n",
       "1        78.0        74.0       NaN        67.0        70.0       NaN  \n",
       "2        71.0        72.0      73.0        70.0        63.0      69.0  \n",
       "3        69.0        70.0      70.0        69.0        74.0      64.0  \n",
       "4        61.0        78.0      71.0        60.0        81.0      62.0  "
      ]
     },
     "execution_count": 21,
     "metadata": {},
     "output_type": "execute_result"
    }
   ],
   "source": [
    "import pandas as pd\n",
    "\n",
    "#Read in file, argument is the file path \n",
    "df = pd.read_csv('data/wetlands_seasonal_bird_diversity.csv')\n",
    "\n",
    "#check the first  5 rows\n",
    "df.head()"
   ]
  },
  {
   "cell_type": "code",
   "execution_count": 23,
   "id": "524816ae-fc5f-43e4-8a45-5345051264c7",
   "metadata": {
    "tags": []
   },
   "outputs": [
    {
     "data": {
      "text/plain": [
       "<Axes: >"
      ]
     },
     "execution_count": 23,
     "metadata": {},
     "output_type": "execute_result"
    },
    {
     "data": {
      "image/png": "[encoded data removed]",
      "text/plain": [
       "<Figure size 640x480 with 1 Axes>"
      ]
     },
     "metadata": {},
     "output_type": "display_data"
    }
   ],
   "source": [
    "#defualt plot : one line plot per column with numeric data\n",
    "df.plot()"
   ]
  },
  {
   "cell_type": "markdown",
   "id": "a6cc1994-4a35-4537-8915-8b7edd7dfb8e",
   "metadata": {},
   "source": [
    "Plot a graph of the spring bird surveys at Mugu Lagoon with respect to the years. Include some basic customization.\n"
   ]
  },
  {
   "cell_type": "code",
   "execution_count": 25,
   "id": "b5c36743-750d-4ce5-b931-a9ecac0d6a3f",
   "metadata": {
    "tags": []
   },
   "outputs": [
    {
     "data": {
      "text/plain": [
       "<Axes: title={'center': 'Number of bird species at mugu lagoon in spring'}, xlabel='Year', ylabel='nuber of birds'>"
      ]
     },
     "execution_count": 25,
     "metadata": {},
     "output_type": "execute_result"
    },
    {
     "data": {
      "image/png": "[encoded data removed]",
      "text/plain": [
       "<Figure size 640x480 with 1 Axes>"
      ]
     },
     "metadata": {},
     "output_type": "display_data"
    }
   ],
   "source": [
    "#1 plot!\n",
    "df.plot(x='year',\n",
    "       y= 'MUL_spring',\n",
    "       title = \"Number of bird species at mugu lagoon in spring\",\n",
    "       xlabel = \"Year\",\n",
    "       ylabel = \"nuber of birds\",\n",
    "       color = 'purple')"
   ]
  },
  {
   "cell_type": "code",
   "execution_count": 28,
   "id": "8dce9315-d81b-4761-accc-dddd38a39c4c",
   "metadata": {
    "tags": []
   },
   "outputs": [
    {
     "data": {
      "text/plain": [
       "0      True\n",
       "1     False\n",
       "2     False\n",
       "3     False\n",
       "4     False\n",
       "5     False\n",
       "6     False\n",
       "7     False\n",
       "8     False\n",
       "9     False\n",
       "10     True\n",
       "11    False\n",
       "12    False\n",
       "13    False\n",
       "Name: MUL_spring, dtype: bool"
      ]
     },
     "execution_count": 28,
     "metadata": {},
     "output_type": "execute_result"
    }
   ],
   "source": [
    "# 2. use isna()\n",
    "df[\"MUL_spring\"].isna()"
   ]
  },
  {
   "cell_type": "code",
   "execution_count": 29,
   "id": "ebe86b80-b379-4592-8024-bc49a4e1fd67",
   "metadata": {
    "tags": []
   },
   "outputs": [
    {
     "data": {
      "text/html": [
       "<div>\n",
       "<style scoped>\n",
       "    .dataframe tbody tr th:only-of-type {\n",
       "        vertical-align: middle;\n",
       "    }\n",
       "\n",
       "    .dataframe tbody tr th {\n",
       "        vertical-align: top;\n",
       "    }\n",
       "\n",
       "    .dataframe thead th {\n",
       "        text-align: right;\n",
       "    }\n",
       "</style>\n",
       "<table border=\"1\" class=\"dataframe\">\n",
       "  <thead>\n",
       "    <tr style=\"text-align: right;\">\n",
       "      <th></th>\n",
       "      <th>year</th>\n",
       "      <th>CSM_winter</th>\n",
       "      <th>CSM_spring</th>\n",
       "      <th>CSM_fall</th>\n",
       "      <th>MUL_winter</th>\n",
       "      <th>MUL_spring</th>\n",
       "      <th>MUL_fall</th>\n",
       "      <th>SDW_winter</th>\n",
       "      <th>SDW_spring</th>\n",
       "      <th>SDW_fall</th>\n",
       "      <th>TJE_winter</th>\n",
       "      <th>TJE_spring</th>\n",
       "      <th>TJE_fall</th>\n",
       "    </tr>\n",
       "  </thead>\n",
       "  <tbody>\n",
       "    <tr>\n",
       "      <th>0</th>\n",
       "      <td>2010</td>\n",
       "      <td>39.0</td>\n",
       "      <td>40.0</td>\n",
       "      <td>50.0</td>\n",
       "      <td>45.0</td>\n",
       "      <td>NaN</td>\n",
       "      <td>61.0</td>\n",
       "      <td>NaN</td>\n",
       "      <td>75.0</td>\n",
       "      <td>85.0</td>\n",
       "      <td>NaN</td>\n",
       "      <td>NaN</td>\n",
       "      <td>81.0</td>\n",
       "    </tr>\n",
       "    <tr>\n",
       "      <th>10</th>\n",
       "      <td>2020</td>\n",
       "      <td>46.0</td>\n",
       "      <td>NaN</td>\n",
       "      <td>47.0</td>\n",
       "      <td>56.0</td>\n",
       "      <td>NaN</td>\n",
       "      <td>66.0</td>\n",
       "      <td>57.0</td>\n",
       "      <td>NaN</td>\n",
       "      <td>58.0</td>\n",
       "      <td>54.0</td>\n",
       "      <td>40.0</td>\n",
       "      <td>54.0</td>\n",
       "    </tr>\n",
       "  </tbody>\n",
       "</table>\n",
       "</div>"
      ],
      "text/plain": [
       "    year  CSM_winter  CSM_spring  CSM_fall  MUL_winter  MUL_spring  MUL_fall  \\\n",
       "0   2010        39.0        40.0      50.0        45.0         NaN      61.0   \n",
       "10  2020        46.0         NaN      47.0        56.0         NaN      66.0   \n",
       "\n",
       "    SDW_winter  SDW_spring  SDW_fall  TJE_winter  TJE_spring  TJE_fall  \n",
       "0          NaN        75.0      85.0         NaN         NaN      81.0  \n",
       "10        57.0         NaN      58.0        54.0        40.0      54.0  "
      ]
     },
     "execution_count": 29,
     "metadata": {},
     "output_type": "execute_result"
    }
   ],
   "source": [
    "df[df[\"MUL_spring\"].isna()]"
   ]
  },
  {
   "cell_type": "markdown",
   "id": "69fb9967-f01f-47dc-8ad9-adf31958fccc",
   "metadata": {},
   "source": [
    "\n",
    "### Check-in\n",
    "\n",
    "Without running the code, give a step-by-step breakdown of what this code is doing:\n",
    "df.set_index('year').loc[:,'SDW_winter':'TJE_fall'].plot()\n",
    "\n",
    "Is this code modifying the data frame df? Why or why not?\n",
    "\n",
    "Run the code and examine the graph. Review the data description. Do we have all the necessary information to make sure it makes sense to directly compare the surveys at these different sites?"
   ]
  },
  {
   "cell_type": "markdown",
   "id": "5806a868-bf54-4b78-b06a-a39858e2f5ca",
   "metadata": {},
   "source": [
    "1. `df.set_index('year')` set index to year\n",
    "2. `.loc[:,'SDW_winter':'TJE_fall']` "
   ]
  },
  {
   "cell_type": "code",
   "execution_count": 30,
   "id": "7bb2b152-3efc-4a11-b6b5-ef2c2d4375d0",
   "metadata": {
    "tags": []
   },
   "outputs": [
    {
     "data": {
      "text/plain": [
       "<Axes: xlabel='year'>"
      ]
     },
     "execution_count": 30,
     "metadata": {},
     "output_type": "execute_result"
    },
    {
     "data": {
      "image/png": "[encoded data removed]",
      "text/plain": [
       "<Figure size 640x480 with 1 Axes>"
      ]
     },
     "metadata": {},
     "output_type": "display_data"
    }
   ],
   "source": [
    "df.set_index('year').loc[:,'SDW_winter':'TJE_fall'].plot()\n"
   ]
  },
  {
   "cell_type": "markdown",
   "id": "28939587-d441-4aee-b2ba-2af664270878",
   "metadata": {},
   "source": [
    "\n",
    "### Check-in\n",
    "\n",
    "Select the bill_length_mm and bill_depth_mm columns in the penguins dataframe and then update the kind parameter to box to make boxplots of the bill length and bill depth.\n",
    "\n",
    "Create a simple histogram of the flipper length of female gentoo penguins."
   ]
  },
  {
   "cell_type": "code",
   "execution_count": 31,
   "id": "63a141f6-3543-4a2b-a941-c375ed47355d",
   "metadata": {
    "tags": []
   },
   "outputs": [
    {
     "data": {
      "text/html": [
       "<div>\n",
       "<style scoped>\n",
       "    .dataframe tbody tr th:only-of-type {\n",
       "        vertical-align: middle;\n",
       "    }\n",
       "\n",
       "    .dataframe tbody tr th {\n",
       "        vertical-align: top;\n",
       "    }\n",
       "\n",
       "    .dataframe thead th {\n",
       "        text-align: right;\n",
       "    }\n",
       "</style>\n",
       "<table border=\"1\" class=\"dataframe\">\n",
       "  <thead>\n",
       "    <tr style=\"text-align: right;\">\n",
       "      <th></th>\n",
       "      <th>species</th>\n",
       "      <th>island</th>\n",
       "      <th>bill_length_mm</th>\n",
       "      <th>bill_depth_mm</th>\n",
       "      <th>flipper_length_mm</th>\n",
       "      <th>body_mass_g</th>\n",
       "      <th>sex</th>\n",
       "      <th>year</th>\n",
       "    </tr>\n",
       "  </thead>\n",
       "  <tbody>\n",
       "    <tr>\n",
       "      <th>0</th>\n",
       "      <td>Adelie</td>\n",
       "      <td>Torgersen</td>\n",
       "      <td>39.1</td>\n",
       "      <td>18.7</td>\n",
       "      <td>181.0</td>\n",
       "      <td>3750.0</td>\n",
       "      <td>male</td>\n",
       "      <td>2007</td>\n",
       "    </tr>\n",
       "    <tr>\n",
       "      <th>1</th>\n",
       "      <td>Adelie</td>\n",
       "      <td>Torgersen</td>\n",
       "      <td>39.5</td>\n",
       "      <td>17.4</td>\n",
       "      <td>186.0</td>\n",
       "      <td>3800.0</td>\n",
       "      <td>female</td>\n",
       "      <td>2007</td>\n",
       "    </tr>\n",
       "    <tr>\n",
       "      <th>2</th>\n",
       "      <td>Adelie</td>\n",
       "      <td>Torgersen</td>\n",
       "      <td>40.3</td>\n",
       "      <td>18.0</td>\n",
       "      <td>195.0</td>\n",
       "      <td>3250.0</td>\n",
       "      <td>female</td>\n",
       "      <td>2007</td>\n",
       "    </tr>\n",
       "    <tr>\n",
       "      <th>3</th>\n",
       "      <td>Adelie</td>\n",
       "      <td>Torgersen</td>\n",
       "      <td>NaN</td>\n",
       "      <td>NaN</td>\n",
       "      <td>NaN</td>\n",
       "      <td>NaN</td>\n",
       "      <td>NaN</td>\n",
       "      <td>2007</td>\n",
       "    </tr>\n",
       "    <tr>\n",
       "      <th>4</th>\n",
       "      <td>Adelie</td>\n",
       "      <td>Torgersen</td>\n",
       "      <td>36.7</td>\n",
       "      <td>19.3</td>\n",
       "      <td>193.0</td>\n",
       "      <td>3450.0</td>\n",
       "      <td>female</td>\n",
       "      <td>2007</td>\n",
       "    </tr>\n",
       "  </tbody>\n",
       "</table>\n",
       "</div>"
      ],
      "text/plain": [
       "  species     island  bill_length_mm  bill_depth_mm  flipper_length_mm  \\\n",
       "0  Adelie  Torgersen            39.1           18.7              181.0   \n",
       "1  Adelie  Torgersen            39.5           17.4              186.0   \n",
       "2  Adelie  Torgersen            40.3           18.0              195.0   \n",
       "3  Adelie  Torgersen             NaN            NaN                NaN   \n",
       "4  Adelie  Torgersen            36.7           19.3              193.0   \n",
       "\n",
       "   body_mass_g     sex  year  \n",
       "0       3750.0    male  2007  \n",
       "1       3800.0  female  2007  \n",
       "2       3250.0  female  2007  \n",
       "3          NaN     NaN  2007  \n",
       "4       3450.0  female  2007  "
      ]
     },
     "execution_count": 31,
     "metadata": {},
     "output_type": "execute_result"
    }
   ],
   "source": [
    "# Read in data\n",
    "URL = 'https://raw.githubusercontent.com/allisonhorst/palmerpenguins/main/inst/extdata/penguins.csv'\n",
    "penguins = pd.read_csv(URL)\n",
    "\n",
    "penguins.head()"
   ]
  },
  {
   "cell_type": "code",
   "execution_count": 35,
   "id": "c862c458-9732-4255-8350-69f39e74b7b9",
   "metadata": {
    "tags": []
   },
   "outputs": [
    {
     "data": {
      "text/plain": [
       "<Axes: title={'center': 'Bill Length & Bill Depth Distributions'}, ylabel='legnth in mm'>"
      ]
     },
     "execution_count": 35,
     "metadata": {},
     "output_type": "execute_result"
    },
    {
     "data": {
      "image/png": "[encoded data removed]",
      "text/plain": [
       "<Figure size 640x480 with 1 Axes>"
      ]
     },
     "metadata": {},
     "output_type": "display_data"
    }
   ],
   "source": [
    "penguins[['bill_length_mm', 'bill_depth_mm']].plot(kind='box', title = \"Bill Length & Bill Depth Distributions\", ylabel = \"legnth in mm\",\n",
    "                                                  color = \"hotpink\")"
   ]
  },
  {
   "cell_type": "code",
   "execution_count": 43,
   "id": "54d63421-8a43-4110-8521-fa5b0d98475d",
   "metadata": {
    "tags": []
   },
   "outputs": [
    {
     "data": {
      "text/plain": [
       "<Axes: xlabel='flipper length (mm)', ylabel='Frequency'>"
      ]
     },
     "execution_count": 43,
     "metadata": {},
     "output_type": "execute_result"
    },
    {
     "data": {
      "image/png": "[encoded data removed]",
      "text/plain": [
       "<Figure size 640x480 with 1 Axes>"
      ]
     },
     "metadata": {},
     "output_type": "display_data"
    }
   ],
   "source": [
    "femail_gentoos = penguins[(penguins['sex'] == 'female') & (penguins['species'] == \"Gentoo\")]\n",
    "femail_gentoos['flipper_length_mm'].plot(kind = 'hist', color = 'hotpink', xlabel = \"flipper length (mm)\")"
   ]
  },
  {
   "cell_type": "code",
   "execution_count": 48,
   "id": "84205999-03d9-4180-a59f-8e433645ce71",
   "metadata": {
    "tags": []
   },
   "outputs": [
    {
     "data": {
      "text/plain": [
       "<Axes: xlabel='flipper length (mm)', ylabel='Frequency'>"
      ]
     },
     "execution_count": 48,
     "metadata": {},
     "output_type": "execute_result"
    },
    {
     "data": {
      "image/png": "[encoded data removed]",
      "text/plain": [
       "<Figure size 640x480 with 1 Axes>"
      ]
     },
     "metadata": {},
     "output_type": "display_data"
    }
   ],
   "source": [
    "penguins.loc[(penguins['sex'] == 'female') & (penguins['species'] == \"Gentoo\"), 'flipper_length_mm'].plot(kind = 'hist',\n",
    "                                                                                     color = 'hotpink', xlabel = \"flipper length (mm)\")"
   ]
  }
 ],
 "metadata": {
  "kernelspec": {
   "display_name": "EDS220",
   "language": "python",
   "name": "eds220-env"
  },
  "language_info": {
   "codemirror_mode": {
    "name": "ipython",
    "version": 3
   },
   "file_extension": ".py",
   "mimetype": "text/x-python",
   "name": "python",
   "nbconvert_exporter": "python",
   "pygments_lexer": "ipython3",
   "version": "3.11.4"
  }
 },
 "nbformat": 4,
 "nbformat_minor": 5
}
