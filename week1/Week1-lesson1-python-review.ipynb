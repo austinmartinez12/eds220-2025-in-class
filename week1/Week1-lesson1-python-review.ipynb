{
 "cells": [
  {
   "cell_type": "markdown",
   "id": "cb554eef-466b-4d9b-98b8-04ba870c0b5b",
   "metadata": {},
   "source": [
    "# Python review\n",
    "\n",
    "Goals: \n",
    "- recall basic python vocab\n",
    "- practice markdown\n",
    "\n",
    "# libraries and packages\n",
    "\n",
    "**librariy** a collecion of code that we can use to preform sepcific tasks in our programs\n",
    "\n",
    "**NumPy**:\n",
    "- core library for numerical computing in python\n",
    "- many other libraries use numpy arrays as building blocks\n",
    "- computions on numpy are optimined for speed and memory usage\n",
    "\n",
    "lets impott numpy with **standard abrivation**"
   ]
  },
  {
   "cell_type": "code",
   "execution_count": 1,
   "id": "0c55b45f-987e-4106-a6d0-513b48aa9c8d",
   "metadata": {
    "tags": []
   },
   "outputs": [],
   "source": [
    "import numpy as np"
   ]
  },
  {
   "cell_type": "markdown",
   "id": "95b1c2c7-66cc-4ae1-840f-67b333be5969",
   "metadata": {},
   "source": [
    "## variables \n",
    "\n",
    "**variables** is a name we assign to a pirticular name in python\n",
    "\n",
    "example: "
   ]
  },
  {
   "cell_type": "code",
   "execution_count": 2,
   "id": "641fefd5-6870-4428-b559-ffc7ed90024f",
   "metadata": {
    "tags": []
   },
   "outputs": [],
   "source": [
    "#here ima assign a small array to a variable a\n",
    "a= np.array([[1,1,2],[3,5,8]])"
   ]
  },
  {
   "cell_type": "code",
   "execution_count": 3,
   "id": "24bf2883-ada4-4e40-a0e3-0e8f0da7cba3",
   "metadata": {
    "tags": []
   },
   "outputs": [
    {
     "data": {
      "text/plain": [
       "array([[1, 1, 2],\n",
       "       [3, 5, 8]])"
      ]
     },
     "execution_count": 3,
     "metadata": {},
     "output_type": "execute_result"
    }
   ],
   "source": [
    "# run cell with the variable name to show value\n",
    "a"
   ]
  },
  {
   "cell_type": "code",
   "execution_count": 4,
   "id": "40d82553-4d2e-4651-858b-7f6f210a0acf",
   "metadata": {
    "tags": []
   },
   "outputs": [
    {
     "name": "stdout",
     "output_type": "stream",
     "text": [
      "[[1 1 2]\n",
      " [3 5 8]]\n"
     ]
    }
   ],
   "source": [
    "#use `print()` to print the value\n",
    "print(a)"
   ]
  },
  {
   "cell_type": "markdown",
   "id": "4ff49a15-dcca-492f-934f-aa5cd7dc5fa9",
   "metadata": {},
   "source": [
    "## objects \n",
    "\n",
    "**object** (informally speaking is a bundle of properties and actions about something specific\n",
    "\n",
    "ex:\n",
    "\n",
    "object: data frame\n",
    "\n",
    "properties: number rows, names of th ecollumns, date created\n",
    "\n",
    "actions: selecting a specific row, adding a new collumn\n",
    "\n",
    "a variable is the name we give a specific object, and the same object can be referenced by different variables.\n",
    "\n",
    "in practive we often use variables and object interchanjebly \n",
    "\n",
    "## Types\n",
    "\n",
    "Every object in python has a type. the type tells us what kind of object it is.\n",
    "\n",
    "we can also call the type of an object, the **class** of an object and they both mean what kind of object we have"
   ]
  },
  {
   "cell_type": "code",
   "execution_count": 5,
   "id": "dad8d890-6aff-4564-b635-a2b08c670bad",
   "metadata": {
    "tags": []
   },
   "outputs": [
    {
     "name": "stdout",
     "output_type": "stream",
     "text": [
      "[[1 1 2]\n",
      " [3 5 8]]\n"
     ]
    },
    {
     "data": {
      "text/plain": [
       "numpy.ndarray"
      ]
     },
     "execution_count": 5,
     "metadata": {},
     "output_type": "execute_result"
    }
   ],
   "source": [
    "print(a)\n",
    "\n",
    "#check the type/class of variable with `type` function\n",
    "type(a)"
   ]
  },
  {
   "cell_type": "code",
   "execution_count": 7,
   "id": "26732a1d-22b4-4484-87a6-b0d0d96e76e0",
   "metadata": {
    "tags": []
   },
   "outputs": [
    {
     "name": "stdout",
     "output_type": "stream",
     "text": [
      "1\n"
     ]
    },
    {
     "data": {
      "text/plain": [
       "numpy.int64"
      ]
     },
     "execution_count": 7,
     "metadata": {},
     "output_type": "execute_result"
    }
   ],
   "source": [
    "print(a[0,0])\n",
    "\n",
    "# Check the type on an entry on the array by indexing \n",
    "type(a[0,0])\n"
   ]
  },
  {
   "cell_type": "markdown",
   "id": "110b559d-9bc4-49dc-b06c-b6bd880e67dc",
   "metadata": {},
   "source": [
    "Notice that `type(a[0,0])` is a `numypy.int64` and not just the standard python integer type. This is telling us that 1 is an interger storeed as a 64-bit number."
   ]
  },
  {
   "cell_type": "code",
   "execution_count": 10,
   "id": "15823123-e922-4f32-ad07-861ae067d4a1",
   "metadata": {
    "tags": []
   },
   "outputs": [
    {
     "data": {
      "text/plain": [
       "5"
      ]
     },
     "execution_count": 10,
     "metadata": {},
     "output_type": "execute_result"
    }
   ],
   "source": [
    "a[1,1]"
   ]
  },
  {
   "cell_type": "markdown",
   "id": "0b2b35ed-5808-4da0-8f90-6a35101d71b5",
   "metadata": {},
   "source": [
    "## FUnctions\n",
    "\n",
    "`print` was our first example of a python **function**.\n",
    "\n",
    "functions take in a set **aruments** and those argumants create an **output**.\n",
    "argument = "
   ]
  },
  {
   "cell_type": "code",
   "execution_count": 11,
   "id": "ceb1767e-bf3c-46c6-b1dd-999ad0597e89",
   "metadata": {
    "tags": []
   },
   "outputs": [
    {
     "data": {
      "text/plain": [
       "\u001b[0;31mSignature:\u001b[0m \u001b[0mprint\u001b[0m\u001b[0;34m(\u001b[0m\u001b[0;34m*\u001b[0m\u001b[0margs\u001b[0m\u001b[0;34m,\u001b[0m \u001b[0msep\u001b[0m\u001b[0;34m=\u001b[0m\u001b[0;34m' '\u001b[0m\u001b[0;34m,\u001b[0m \u001b[0mend\u001b[0m\u001b[0;34m=\u001b[0m\u001b[0;34m'\\n'\u001b[0m\u001b[0;34m,\u001b[0m \u001b[0mfile\u001b[0m\u001b[0;34m=\u001b[0m\u001b[0;32mNone\u001b[0m\u001b[0;34m,\u001b[0m \u001b[0mflush\u001b[0m\u001b[0;34m=\u001b[0m\u001b[0;32mFalse\u001b[0m\u001b[0;34m)\u001b[0m\u001b[0;34m\u001b[0m\u001b[0;34m\u001b[0m\u001b[0m\n",
       "\u001b[0;31mDocstring:\u001b[0m\n",
       "Prints the values to a stream, or to sys.stdout by default.\n",
       "\n",
       "sep\n",
       "  string inserted between values, default a space.\n",
       "end\n",
       "  string appended after the last value, default a newline.\n",
       "file\n",
       "  a file-like object (stream); defaults to the current sys.stdout.\n",
       "flush\n",
       "  whether to forcibly flush the stream.\n",
       "\u001b[0;31mType:\u001b[0m      builtin_function_or_method"
      ]
     },
     "metadata": {},
     "output_type": "display_data"
    }
   ],
   "source": [
    "print?"
   ]
  },
  {
   "cell_type": "markdown",
   "id": "0bcf2cce-1983-477d-b6fc-48bafd190e1e",
   "metadata": {},
   "source": [
    "This information is a **docstring**.\n",
    "\n",
    "A function has 2 types of arguments :\n",
    "- non-optional arguments: argments you need to specify for the fucntion to do something\n",
    "- optional arguments: arguments that are pre-filled with a default value by the fucntion. you can override thhem. optional arguments appear inside the parenthesis in the form optional_argiument=defualt_value"
   ]
  },
  {
   "cell_type": "code",
   "execution_count": 12,
   "id": "4f358acc-1db6-4a00-862c-fd7b751e97b9",
   "metadata": {
    "tags": []
   },
   "outputs": [
    {
     "name": "stdout",
     "output_type": "stream",
     "text": [
      "changing the default end argument :)"
     ]
    }
   ],
   "source": [
    "print(\"changing the default end argument\", end=' :)')"
   ]
  },
  {
   "cell_type": "markdown",
   "id": "a68a2d15-2391-41d1-b633-523c466a0543",
   "metadata": {},
   "source": [
    "## Atributes and methods\n",
    "\n",
    "an object in python has atribures and methods\n",
    "\n",
    "- atributres: a property of an object, some price of info about it\n",
    "- method: a procedure assosiated with the object, an action where the main ingreiend is the object\n",
    "\n",
    "### check in\n",
    "\n",
    "fish attributes:\n",
    "\n",
    "- length, color, species\n",
    "- die(), bite(), swim()\n",
    "\n",
    "**exmaple**\n",
    "atributes for `numpy.arrays`\n",
    "\n",
    "we can acseess vairbale attributes and methods by adding a period at th ened of the varables name\n",
    "\n",
    "`variable.method()` or `variable.atribute`\n"
   ]
  },
  {
   "cell_type": "code",
   "execution_count": 13,
   "id": "c9315d04-4d63-444b-b45c-f51359512750",
   "metadata": {
    "tags": []
   },
   "outputs": [
    {
     "data": {
      "text/plain": [
       "(2, 3)"
      ]
     },
     "execution_count": 13,
     "metadata": {},
     "output_type": "execute_result"
    }
   ],
   "source": [
    "a.shape"
   ]
  },
  {
   "cell_type": "code",
   "execution_count": 14,
   "id": "204fd1ad-9ba8-435a-9cff-c0c7071e0b59",
   "metadata": {
    "tags": []
   },
   "outputs": [
    {
     "data": {
      "text/plain": [
       "tuple"
      ]
     },
     "execution_count": 14,
     "metadata": {},
     "output_type": "execute_result"
    }
   ],
   "source": [
    "type(a.shape)"
   ]
  },
  {
   "cell_type": "code",
   "execution_count": 15,
   "id": "40567430-88fa-4200-80eb-b4c02a1cfff8",
   "metadata": {
    "tags": []
   },
   "outputs": [
    {
     "data": {
      "text/plain": [
       "array([1, 1, 2])"
      ]
     },
     "execution_count": 15,
     "metadata": {},
     "output_type": "execute_result"
    }
   ],
   "source": [
    "# Methods examples\n",
    "# min() returns the minimum value along a specified axis\n",
    "a.min(axis=0)"
   ]
  },
  {
   "cell_type": "markdown",
   "id": "646b9ec7-f3d9-4ef0-9831-782edd840375",
   "metadata": {},
   "source": [
    "## check in\n",
    "\n",
    "we can also call the `min` method without any parameters"
   ]
  },
  {
   "cell_type": "code",
   "execution_count": 16,
   "id": "452160c5-e531-450c-b54d-43bde31576fa",
   "metadata": {
    "tags": []
   },
   "outputs": [
    {
     "data": {
      "text/plain": [
       "1"
      ]
     },
     "execution_count": 16,
     "metadata": {},
     "output_type": "execute_result"
    }
   ],
   "source": [
    "a.min()\n",
    "\n",
    "# Axis is an optional parameter"
   ]
  },
  {
   "cell_type": "markdown",
   "id": "b84e7097-832a-44eb-8acf-5d66b8f5d656",
   "metadata": {},
   "source": [
    "remeber : methods are function assosiated with an object. "
   ]
  },
  {
   "cell_type": "code",
   "execution_count": 17,
   "id": "2c79ced2-3d37-410b-8acc-c11e6687f2ef",
   "metadata": {
    "tags": []
   },
   "outputs": [
    {
     "data": {
      "text/plain": [
       "builtin_function_or_method"
      ]
     },
     "execution_count": 17,
     "metadata": {},
     "output_type": "execute_result"
    }
   ],
   "source": [
    "type(a.min)"
   ]
  },
  {
   "cell_type": "markdown",
   "id": "7a01ad55-73c0-4ed0-a596-d7106bedb538",
   "metadata": {},
   "source": [
    "## Exercie \n",
    "\n",
    "1. read the print function help. what is the typoe of the argument `sep`? is this an optional argument or non-optional argument? why?\n",
    "2. create two new variables, onw with the integer value 77 and another onw with the string 99.\n",
    "3. use your varuables to print `77%99%77` by changing the value of one of the optional arguments in `print`."
   ]
  },
  {
   "cell_type": "code",
   "execution_count": 24,
   "id": "7d890364-4aea-4250-ba73-eab625804dd6",
   "metadata": {
    "tags": []
   },
   "outputs": [
    {
     "data": {
      "text/plain": [
       "\u001b[0;31mSignature:\u001b[0m \u001b[0mprint\u001b[0m\u001b[0;34m(\u001b[0m\u001b[0;34m*\u001b[0m\u001b[0margs\u001b[0m\u001b[0;34m,\u001b[0m \u001b[0msep\u001b[0m\u001b[0;34m=\u001b[0m\u001b[0;34m' '\u001b[0m\u001b[0;34m,\u001b[0m \u001b[0mend\u001b[0m\u001b[0;34m=\u001b[0m\u001b[0;34m'\\n'\u001b[0m\u001b[0;34m,\u001b[0m \u001b[0mfile\u001b[0m\u001b[0;34m=\u001b[0m\u001b[0;32mNone\u001b[0m\u001b[0;34m,\u001b[0m \u001b[0mflush\u001b[0m\u001b[0;34m=\u001b[0m\u001b[0;32mFalse\u001b[0m\u001b[0;34m)\u001b[0m\u001b[0;34m\u001b[0m\u001b[0;34m\u001b[0m\u001b[0m\n",
       "\u001b[0;31mDocstring:\u001b[0m\n",
       "Prints the values to a stream, or to sys.stdout by default.\n",
       "\n",
       "sep\n",
       "  string inserted between values, default a space.\n",
       "end\n",
       "  string appended after the last value, default a newline.\n",
       "file\n",
       "  a file-like object (stream); defaults to the current sys.stdout.\n",
       "flush\n",
       "  whether to forcibly flush the stream.\n",
       "\u001b[0;31mType:\u001b[0m      builtin_function_or_method"
      ]
     },
     "metadata": {},
     "output_type": "display_data"
    }
   ],
   "source": [
    "print?"
   ]
  },
  {
   "cell_type": "code",
   "execution_count": null,
   "id": "dc62cd60-93a7-45d4-ad95-c959762a99b1",
   "metadata": {},
   "outputs": [],
   "source": [
    "#1 is an optional argument beause you cna stull run print without it. \n",
    "#2 "
   ]
  },
  {
   "cell_type": "code",
   "execution_count": 30,
   "id": "9ef97d31-0ec3-4741-8117-772a9d0b56d7",
   "metadata": {
    "tags": []
   },
   "outputs": [],
   "source": [
    "c = 77\n",
    "d = '99'"
   ]
  },
  {
   "cell_type": "code",
   "execution_count": 33,
   "id": "e2ad81ce-7b0f-4a65-b300-3426054a649c",
   "metadata": {
    "tags": []
   },
   "outputs": [
    {
     "name": "stdout",
     "output_type": "stream",
     "text": [
      "77%99%77\n"
     ]
    }
   ],
   "source": [
    "print(c,d,c, sep='%')"
   ]
  },
  {
   "cell_type": "code",
   "execution_count": null,
   "id": "32258416-27d4-4c40-a996-4d7bcf6e9027",
   "metadata": {},
   "outputs": [],
   "source": []
  }
 ],
 "metadata": {
  "kernelspec": {
   "display_name": "EDS220",
   "language": "python",
   "name": "eds220-env"
  },
  "language_info": {
   "codemirror_mode": {
    "name": "ipython",
    "version": 3
   },
   "file_extension": ".py",
   "mimetype": "text/x-python",
   "name": "python",
   "nbconvert_exporter": "python",
   "pygments_lexer": "ipython3",
   "version": "3.11.4"
  }
 },
 "nbformat": 4,
 "nbformat_minor": 5
}
